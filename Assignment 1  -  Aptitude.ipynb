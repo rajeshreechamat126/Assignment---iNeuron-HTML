{
 "cells": [
  {
   "cell_type": "markdown",
   "id": "c72150cd",
   "metadata": {},
   "source": [
    "# Assignment 1 - Aptitude"
   ]
  },
  {
   "cell_type": "markdown",
   "id": "9e54fd71",
   "metadata": {},
   "source": [
    "# Divisibility"
   ]
  },
  {
   "cell_type": "markdown",
   "id": "769b4f1e",
   "metadata": {},
   "source": [
    "💡 Question-1: Which one of the following numbers is divisible by 99? a) 3572404 b) 135792 c) 913464 d) 114345\n",
    "\n",
    "💬 Solution-1: Option D) 114345 is div. by 99\n",
    "\n"
   ]
  },
  {
   "cell_type": "markdown",
   "id": "1cab160f",
   "metadata": {},
   "source": [
    "💡 Question-2: If n is an integer, what is the remainder when (2n + 2)2 is divided by 4?\n",
    "\n",
    "💬 Solution-2:"
   ]
  },
  {
   "cell_type": "code",
   "execution_count": null,
   "id": "4c6610f8",
   "metadata": {},
   "outputs": [],
   "source": [
    "(2n + 2)^2 = (2n + 2) * (2n + 2)\n",
    "= 4n^2 + 4n + 4\n",
    "\n",
    "remainder when (4n^2 + 4n + 4) is divided by 4 is 0"
   ]
  },
  {
   "cell_type": "markdown",
   "id": "ecfd1115",
   "metadata": {},
   "source": [
    "💡 Question-3: Find two nearest numbers to 19506 which are divisible by 9?\n",
    "\n",
    "💬 Solution-3: Two nearest numbers to 19506 that are divisible by 9 are 19497 and 19512.\n",
    "\n"
   ]
  },
  {
   "cell_type": "markdown",
   "id": "abfdbdd1",
   "metadata": {},
   "source": [
    "💡 Question-4: What is the value of M and N respectively if M39048458N is divisible by 8 and 11, where M and N are single digit integers?\n",
    "\n",
    "💬 Solution-4:"
   ]
  },
  {
   "cell_type": "code",
   "execution_count": null,
   "id": "9bf6415b",
   "metadata": {},
   "outputs": [],
   "source": [
    "To find the values of M and N such that M39048458N is divisible by 8 and 11, we can apply the divisibility rules for these two numbers.\n",
    "\n",
    "Now let's look at the number M39048458N.\n",
    "\n",
    "Divisibility by 8:\n",
    "To check the divisibility by 8, we need to examine the last three digits, which are \"458.\" This number is not divisible by 8 because 458 is not a multiple of 8.\n",
    "\n",
    "Divisibility by 11:\n",
    "Next, let's apply the divisibility rule for 11. The alternating sum of the digits is:\n",
    "\n",
    "(3 - 9 + 0 - 4 + 8 - 4 + 5 - 8) = -3\n",
    "\n",
    "Since -3 is not a multiple of 11, the entire number M39048458N is not divisible by 11.\n",
    "\n",
    "Since M39048458N is not divisible by either 8 or 11, there are no single-digit integer values for M and N that satisfy the given condition."
   ]
  },
  {
   "cell_type": "markdown",
   "id": "ce387d99",
   "metadata": {},
   "source": [
    "💡 Question-5: How many pairs of X and Y are possible in the number 763X4Y2, if the number is divisible by 9?\n",
    "\n",
    "💬 Solution-5:"
   ]
  },
  {
   "cell_type": "code",
   "execution_count": null,
   "id": "e8100c4d",
   "metadata": {},
   "outputs": [],
   "source": [
    "For the number to be divisible by 9, the sum must be divisible by 9. Therefore: (7 + 6 + 3 + X + 4 + Y + 2) ≡ 0 (mod 9)\n",
    "\n",
    "Simplifying: (22 + X + Y) ≡ 0 (mod 9)\n",
    "\n",
    "Now, let's find all the possible values of X and Y that make (22 + X + Y) divisible by 9.\n",
    "\n",
    "The possible pairs of X and Y that satisfy this condition are:\n",
    "\n",
    "1. X = 1, Y = 4 (22 + 1 + 4 = 27, which is divisible by 9)\n",
    "2. X = 2, Y = 3 (22 + 2 + 3 = 27, which is divisible by 9)\n",
    "3. X = 3, Y = 2 (22 + 3 + 2 = 27, which is divisible by 9)\n",
    "4. X = 4, Y = 1 (22 + 4 + 1 = 27, which is divisible by 9)\n",
    "\n",
    "So, there are four pairs of X and Y (1 and 4, 2 and 3, 3 and 2, 4 and 1) that make the number 763X4Y2 divisible by 9."
   ]
  },
  {
   "cell_type": "markdown",
   "id": "78a85f83",
   "metadata": {},
   "source": [
    "💡 Question-6: When the integer n is divided by 8, the remainder is 3. What is the remainder if 6n is divided by 8?\n",
    "\n",
    "💬 Solution-6:\n",
    "\n"
   ]
  },
  {
   "cell_type": "code",
   "execution_count": null,
   "id": "d65fbea0",
   "metadata": {},
   "outputs": [],
   "source": [
    "When the integer n is divided by 8, the remainder is 3 as: n ≡ 3 (mod 8)\n",
    "\n",
    "Now, we need to find the remainder when 6n is divided by 8.\n",
    "\n",
    "Step 1: Express 6n in terms of n\n",
    "6n = 6 * (n ≡ 3 (mod 8))\n",
    "\n",
    "Step 2: Distribute the 6 on the right side of the congruence\n",
    "6n ≡ 6 * 3 (mod 8)\n",
    "\n",
    "Step 3: Calculate 6 * 3\n",
    "6 * 3 = 18\n",
    "\n",
    "Step 4: Find the remainder when 18 is divided by 8\n",
    "18 ÷ 8 = 2 with a remainder of 2\n",
    "\n",
    "So, the remainder when 6n is divided by 8 is 2."
   ]
  },
  {
   "cell_type": "markdown",
   "id": "5232eb21",
   "metadata": {},
   "source": [
    "💡 Question-7: If the product 4864 x 9P2 is divisible by 12, then what is the value of P?\n",
    "\n",
    "💬 Solution-7:"
   ]
  },
  {
   "cell_type": "code",
   "execution_count": null,
   "id": "7b200b61",
   "metadata": {},
   "outputs": [],
   "source": [
    "To determine the value of P, we need to find the possible values of P that make the product 4864 x 9P2 divisible by 12.\n",
    "\n",
    "Divisibility Rule for 12:\n",
    "A number is divisible by 12 if it is divisible by both 3 and 4.\n",
    "\n",
    "Step 1: Check divisibility by 4\n",
    "A number is divisible by 4 if its last two digits form a multiple of 4.\n",
    "\n",
    "Since 4864 is divisible by 4 (64 is a multiple of 4), we can conclude that 4864 x 9P2 is divisible by 4 for any value of P.\n",
    "\n",
    "Step 2: Check divisibility by 3\n",
    "A number is divisible by 3 if the sum of its digits is divisible by 3.\n",
    "\n",
    "Let's find the sum of the digits in 9P2: 9 + P + 2 = 11 + P\n",
    "\n",
    "For 4864 x 9P2 to be divisible by 3, (11 + P) must be divisible by 3.\n",
    "\n",
    "Possible values of P that make (11 + P) divisible by 3 are P = 1 and P = 2.\n",
    "\n",
    "Therefore, the possible values of P are 1 and 2."
   ]
  },
  {
   "cell_type": "markdown",
   "id": "4ff46c44",
   "metadata": {},
   "source": [
    "💡 Question-8: ) If the number 7X86038 is exactly divisible by 11, then the smallest whole number in place of X?\n",
    "\n",
    "💬 Solution-8:"
   ]
  },
  {
   "cell_type": "code",
   "execution_count": null,
   "id": "133e16b4",
   "metadata": {},
   "outputs": [],
   "source": [
    "Applying Divisibility rule of 11 for the number 7X86038:\n",
    "\n",
    "Alternating sum = (7 - X + 8 - 6 + 0 - 3 + 8) = (22 - X)\n",
    "\n",
    "For the number to be divisible by 11, the alternating sum must be divisible by 11. Therefore: (22 - X) ≡ 0 (mod 11)\n",
    "\n",
    "The smallest whole number value of X that makes (22 - X) divisible by 11 is X = 0.\n",
    "\n",
    "Let's check: Alternating sum = (22 - 0) = 22\n",
    "\n",
    "Since 22 is divisible by 11, the number 7X86038 is exactly divisible by 11 when X = 0."
   ]
  },
  {
   "cell_type": "markdown",
   "id": "14db3242",
   "metadata": {},
   "source": [
    "💡 Question-9: If an integer n is divisible by 3, 5 and 12, what is the next larger integer divisible by all these numbers? a) n2 b) n + 180 c) 2n d) n + 60\n",
    "\n",
    "💬 Solution-9: Option B) n + 180 c"
   ]
  },
  {
   "cell_type": "markdown",
   "id": "2a83d81b",
   "metadata": {},
   "source": [
    "💡 Question-10: What is the product of the largest and the smallest possible values of M for which a number 5M83M4M1 is divisible by 9?\n",
    "\n",
    "💬 Solution-10:"
   ]
  },
  {
   "cell_type": "code",
   "execution_count": null,
   "id": "c0f1ac55",
   "metadata": {},
   "outputs": [],
   "source": [
    "For 5M83M4M1 to be divisible by 9, the sum of its digits (21 + 3M) must be divisible by 9.\n",
    "\n",
    "So, 21 + 3M ≡ 0 (mod 9)\n",
    "\n",
    "To find the possible values of M, we need to find the multiples of 3 between 21 and 9 (as the result must be divisible by 9).\n",
    "\n",
    "Multiples of 3 between 21 and 9 are 21 and 18.\n",
    "\n",
    "So, the possible values of M are:\n",
    "\n",
    "1) M = 0 (if 21 + 3M = 21, which is divisible by 9).\n",
    "2) M = 3 (if 21 + 3M = 30, which is divisible by 9).\n",
    "\n",
    "Now, we need to find the product of the largest and smallest possible values of M:\n",
    "\n",
    "Product = Largest M * Smallest M\n",
    "        = 3 * 0\n",
    "        = 0\n",
    "\n",
    "So, the product of the largest and smallest possible values of M is 0."
   ]
  },
  {
   "cell_type": "markdown",
   "id": "ad33b6e2",
   "metadata": {},
   "source": [
    "# Unit digits (Cyclicity)"
   ]
  },
  {
   "cell_type": "markdown",
   "id": "9a01f8b5",
   "metadata": {},
   "source": [
    "💡 Question-1: ) What is the unit digit in the product (365 x 659 x 771)?\n",
    "\n",
    "💬 Solution-1: Unit digit is 4\n",
    "\n"
   ]
  },
  {
   "cell_type": "markdown",
   "id": "2a961716",
   "metadata": {},
   "source": [
    "💡 Question-2: Find unit digit of product (173)45 x (152)77 x (777)999\n",
    "\n",
    "💬 Solution-2: Unit digit is 8"
   ]
  },
  {
   "cell_type": "markdown",
   "id": "e94ea0ab",
   "metadata": {},
   "source": [
    "💡 Question-3: What is the unit's digit of the number 6256– 4256?\n",
    "\n",
    "💬 Solution-3: Unit digit is 0\n",
    "\n"
   ]
  },
  {
   "cell_type": "markdown",
   "id": "3db18154",
   "metadata": {},
   "source": [
    "💡 Question-4: Find the unit's digit in 264102+ 264103\n",
    "\n",
    "💬 Solution-4: Unit digit is 0"
   ]
  },
  {
   "cell_type": "markdown",
   "id": "c67fb64b",
   "metadata": {},
   "source": [
    "💡 Question-5: ) What is the unit digit of (316)3n + 1?\n",
    "\n",
    "💬 Solution-5: Unit digit is 7"
   ]
  },
  {
   "cell_type": "markdown",
   "id": "8b670997",
   "metadata": {},
   "source": [
    "💡 Question-6: What is the unit digit in (795 - 358)?\n",
    "\n",
    "💬 Solution-6: Unit digit is 4"
   ]
  },
  {
   "cell_type": "markdown",
   "id": "a40c22f0",
   "metadata": {},
   "source": [
    "💡 Question-7: What is the rightmost non-zero digit of the number 302720\n",
    "\n",
    "💬 Solution-7: Rightmost/Unit digit is 1\n",
    "\n"
   ]
  },
  {
   "cell_type": "markdown",
   "id": "26655006",
   "metadata": {},
   "source": [
    "💡 Question-8: What will be the last digit of the number obtained by multiplying the numbers 81x82x83x84x86x87x88x89?\n",
    "\n",
    "💬 Solution-8: Unit digit is 6\n",
    "\n"
   ]
  },
  {
   "cell_type": "markdown",
   "id": "46d2b530",
   "metadata": {},
   "source": [
    "💡 Question-9: Find the last three-digits of the product: 12345x54321\n",
    "\n",
    "💬 Solution-9: Last three-digits are 745"
   ]
  },
  {
   "cell_type": "markdown",
   "id": "a3220dd8",
   "metadata": {},
   "source": [
    "💡 Question-10: Find the last digit of 15+25+35……95\n",
    "\n",
    "💬 Solution-10: Unit digit is 5"
   ]
  },
  {
   "cell_type": "markdown",
   "id": "0e679489",
   "metadata": {},
   "source": [
    "# Remainders"
   ]
  },
  {
   "cell_type": "markdown",
   "id": "79eb4ca4",
   "metadata": {},
   "source": [
    "💡 Question-1: What is the remainder when 725 is divided by 6?\n",
    "\n",
    "💬 Solution-1: Remainder is 1"
   ]
  },
  {
   "cell_type": "markdown",
   "id": "fbc1d3c2",
   "metadata": {},
   "source": [
    "💡 Question-2: What is the remainder when 345 is divided by 8?\n",
    "\n",
    "💬 Solution-2: Remainder is 3"
   ]
  },
  {
   "cell_type": "markdown",
   "id": "ca81ff2b",
   "metadata": {},
   "source": [
    "💡 Question-3: Find the remainder when 496 is divided by 6.\n",
    "\n",
    "💬 Solution-3: Remainder is 4"
   ]
  },
  {
   "cell_type": "markdown",
   "id": "fa436518",
   "metadata": {},
   "source": [
    "💡 Question-4: What is the remainder when 141516 is divided by 5?\n",
    "\n",
    "💬 Solution-4: Remainder is 1"
   ]
  },
  {
   "cell_type": "markdown",
   "id": "2a082d51",
   "metadata": {},
   "source": [
    "💡 Question-5: Find the remainder when 6799 is divided by 7.\n",
    "\n",
    "💬 Solution-5: Remainder is 1"
   ]
  },
  {
   "cell_type": "markdown",
   "id": "386b1cd2",
   "metadata": {},
   "source": [
    "💡 Question-6: What is the remainder when 73x75x78x57x197x37 is divided by 34\n",
    "\n",
    "💬 Solution-6: Remainder is 32\n",
    "\n"
   ]
  },
  {
   "cell_type": "markdown",
   "id": "8dfd6532",
   "metadata": {},
   "source": [
    "💡 Question-7: Let N = 1421x1423x1425. What is the remainder when N is divided by 12?\n",
    "\n",
    "💬 Solution-7: Remainder is 3"
   ]
  },
  {
   "cell_type": "markdown",
   "id": "f5ca687e",
   "metadata": {},
   "source": [
    "💡 Question-8: Find the remainder when 2256 is divided by 17.\n",
    "\n",
    "💬 Solution-8: Remainder is 1"
   ]
  },
  {
   "cell_type": "markdown",
   "id": "41c63ae1",
   "metadata": {},
   "source": [
    "💡 Question-9: The remainder of 3997! /40 is :\n",
    "\n",
    "a) 39 b) 0 c) 1 d) None of these\n",
    "\n",
    "💬 Solution-9: Correct Option is C: 1"
   ]
  },
  {
   "cell_type": "markdown",
   "id": "cb0775b3",
   "metadata": {},
   "source": [
    "💡 Question-10: Find the remainder on dividing 1!+2!+3!.....+100! by 7?\n",
    "\n",
    "💬 Solution-10: Remainder is 5"
   ]
  },
  {
   "cell_type": "markdown",
   "id": "600300e5",
   "metadata": {},
   "source": [
    "# Factors"
   ]
  },
  {
   "cell_type": "markdown",
   "id": "c1daaa99",
   "metadata": {},
   "source": [
    "💡 Question-1: What is the number of prime factors in 64x86x108x1410x2212\n",
    "\n",
    "💬 Solution-1: Number of prime factors in the expression is 5, and the prime factors are 2, 3, 5, 7, and 11. Total prime factors = 52+4+8+10+12=86\n",
    "\n"
   ]
  },
  {
   "cell_type": "markdown",
   "id": "0d8052f6",
   "metadata": {},
   "source": [
    "💡 Question-2: N= a4xb3xc7. Find the number of perfect square factors of N where a,b,c are three distinct prime numbers.\n",
    "\n",
    "💬 Solution-2: There are 24 perfect square factors of N when a, b, and c are three distinct prime numbers.\n",
    "\n"
   ]
  },
  {
   "cell_type": "markdown",
   "id": "11828b39",
   "metadata": {},
   "source": [
    "💡 Question-3: How many factors of 123x304x352 are even numbers?\n",
    "\n",
    "💬 Solution-3: There are 120 factors of N that are even numbers."
   ]
  },
  {
   "cell_type": "markdown",
   "id": "f5fd08e9",
   "metadata": {},
   "source": [
    "💡 Question-4: If N=27×34, M= 24×32×5, then find the number of factors of N that are common with the factors of M.\n",
    "\n",
    "💬 Solution-4: There is only one factor of N that is common with the factors of M, and that factor is 144.\n",
    "\n"
   ]
  },
  {
   "cell_type": "markdown",
   "id": "a1f7331e",
   "metadata": {},
   "source": [
    "💡 Question-5: N is the smallest number that has 5 factors. How many factors does (N - 1) have?\n",
    "\n",
    "💬 Solution-5: The number of factors that (N - 1) has is 4.\n",
    "\n"
   ]
  },
  {
   "cell_type": "markdown",
   "id": "1c4cea95",
   "metadata": {},
   "source": [
    "💡 Question-6: If both 112 and 34 are factors of the number Ax43x62x1311, then what is the smallest possible value of A?\n",
    "\n",
    "💬 Solution-6: The smallest possible value of A is 9801.\n",
    "\n"
   ]
  },
  {
   "cell_type": "markdown",
   "id": "2608be04",
   "metadata": {},
   "source": [
    "💡 Question-7: Find the total number of factors of 10!\n",
    "\n",
    "💬 Solution-7: 10! has a total of 270 factors.\n",
    "\n"
   ]
  },
  {
   "cell_type": "markdown",
   "id": "0a13d4d5",
   "metadata": {},
   "source": [
    "💡 Question-8: How many factors of 27x36x54x73 are even perfect squares?\n",
    "\n",
    "💬 Solution-8: There are 96 factors of N that are even perfect squares."
   ]
  },
  {
   "cell_type": "markdown",
   "id": "e2625137",
   "metadata": {},
   "source": [
    "💡 Question-9: In how many ways can 480 be written as a product of two natural numbers?\n",
    "\n",
    "💬 Solution-9: There are 24 ways to write 480 as a product of two natural numbers. The prime factorization of 480 is: 480 = 25 * 3 * 5\n",
    "\n",
    "Now, 24 pairs of factors are:\n",
    "\n",
    "1. (1, 480)\n",
    "2. (2, 240)\n",
    "3. (3, 160)\n",
    "4. (4, 120)\n",
    "5. (5, 96)\n",
    "6. (6, 80)\n",
    "7. (8, 60)\n",
    "8. (10, 48)\n",
    "9. (12, 40)\n",
    "10. (15, 32)\n",
    "11. (16, 30)\n",
    "12. (20, 24)\n",
    "13. (24, 20)\n",
    "14. (30, 16)\n",
    "15. (32, 15)\n",
    "16. (40, 12)\n",
    "17. (48, 10)\n",
    "18. (60, 8)\n",
    "19. (80, 6)\n",
    "20. (96, 5)\n",
    "21. (120, 4)\n",
    "22. (160, 3)\n",
    "23. (240, 2)\n",
    "24. (480, 1)\n"
   ]
  },
  {
   "cell_type": "markdown",
   "id": "28afebb3",
   "metadata": {},
   "source": [
    "💡 Question-10: How many factors of 25x34x54 are not the factors of 23x54x75.\n",
    "\n",
    "💬 Solution-10: There are 30 factors of 25x34x54 that are not factors of 23x54x75.\n",
    "\n"
   ]
  }
 ],
 "metadata": {
  "kernelspec": {
   "display_name": "Python 3 (ipykernel)",
   "language": "python",
   "name": "python3"
  },
  "language_info": {
   "codemirror_mode": {
    "name": "ipython",
    "version": 3
   },
   "file_extension": ".py",
   "mimetype": "text/x-python",
   "name": "python",
   "nbconvert_exporter": "python",
   "pygments_lexer": "ipython3",
   "version": "3.9.13"
  }
 },
 "nbformat": 4,
 "nbformat_minor": 5
}
