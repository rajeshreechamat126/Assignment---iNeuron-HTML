{
 "cells": [
  {
   "cell_type": "markdown",
   "id": "60fd1538",
   "metadata": {},
   "source": [
    "# Assignment 6 - Web Dev"
   ]
  },
  {
   "cell_type": "markdown",
   "id": "c9f1d5bb",
   "metadata": {},
   "source": [
    "💡 Question-1: What’s Constructor And Its Purpose?\n",
    "\n",
    " Solution-1:\n",
    "\n",
    "In JavaScript, a constructor is a special method that is used for creating and initializing objects created from a class. Constructors are defined within class declarations or class expressions and are automatically called when a new instance of the class is created using the new keyword.\n",
    "\n",
    "Here's an example of a constructor in JavaScript:"
   ]
  },
  {
   "cell_type": "code",
   "execution_count": null,
   "id": "4f07d864",
   "metadata": {},
   "outputs": [],
   "source": [
    "class Person {\n",
    "  constructor(name, age) {\n",
    "    this.name = name;\n",
    "    this.age = age;\n",
    "  }\n",
    "}\n",
    "\n",
    "const john = new Person(\"John\", 30);\n",
    "console.log(john.name);  // Output: John\n",
    "console.log(john.age);   // Output: 30"
   ]
  },
  {
   "cell_type": "markdown",
   "id": "cc0556ec",
   "metadata": {},
   "source": [
    "In this example, the Person class has a constructor that takes two parameters (name and age). Inside the constructor, the properties name and age are assigned using the this keyword, which refers to the instance of the object being created. When a new instance of the Person class is created using the new keyword, the constructor is automatically invoked with the provided arguments, and the object is initialized with the specified values.\n",
    "\n"
   ]
  },
  {
   "cell_type": "markdown",
   "id": "35be4c1e",
   "metadata": {},
   "source": [
    "💡 Question-2: Explain This Keyword and Its Purpose?\n",
    "\n",
    " Solution-2:\n",
    "\n",
    "In JavaScript, the this keyword refers to the object that is currently being executed or the context in which a function is invoked. Its value is dynamically determined at runtime based on how a function is called or how an object method is accessed.\n",
    "\n",
    "The purpose of the this keyword is to provide a convenient way to access and manipulate object properties within methods and to establish the context in which a function operates.\n",
    "\n",
    "Here are some common use cases and behaviors of the this keyword:\n",
    "\n",
    "Method Invocation: When a function is called as a method of an object, the this keyword refers to the object itself. It allows methods to access and manipulate the object's properties and other methods."
   ]
  },
  {
   "cell_type": "code",
   "execution_count": null,
   "id": "12d4cc51",
   "metadata": {},
   "outputs": [],
   "source": [
    "const person = {\n",
    "  name: \"John\",\n",
    "  greet: function() {\n",
    "    console.log(\"Hello, my name is\", this.name);\n",
    "  }\n",
    "};\n",
    "\n",
    "person.greet(); // Output: Hello, my name is John"
   ]
  },
  {
   "cell_type": "markdown",
   "id": "03f8e9fc",
   "metadata": {},
   "source": [
    "Here greet function is defined within the person object. When the greet method is invoked using person.greet(), this inside the method refers to the person object, allowing it to access and use the name property of the object.\n",
    "\n",
    "Function Invocation: When a standalone function is called without any explicit binding, this typically refers to the global object (window in browsers, global in Node.js) in non-strict mode. In strict mode, it is undefined."
   ]
  },
  {
   "cell_type": "code",
   "execution_count": null,
   "id": "baf32b1f",
   "metadata": {},
   "outputs": [],
   "source": [
    "function displayMessage() {\n",
    "  console.log(\"Message:\", this.message);\n",
    "}\n",
    "\n",
    "const message = \"Hello!\";\n",
    "displayMessage(); // Output: Message: Hello!"
   ]
  },
  {
   "cell_type": "markdown",
   "id": "4414dd5f",
   "metadata": {},
   "source": [
    "Here displayMessage function is called without any specific object context. As a result, this inside the function refers to the global object (window in a browser context) and can access the global message variable.\n",
    "\n",
    "Constructor Invocation: When a function is used as a constructor using the new keyword, a new instance of an object is created, and this refers to the newly created object. The constructor function sets up the object's initial state by assigning properties to this.\n"
   ]
  },
  {
   "cell_type": "code",
   "execution_count": null,
   "id": "055b2be5",
   "metadata": {},
   "outputs": [],
   "source": [
    "function Person(name, age) {\n",
    "  this.name = name;\n",
    "  this.age = age;\n",
    "}\n",
    "\n",
    "const john = new Person(\"John\", 30);\n",
    "console.log(john.name); // Output: John\n",
    "console.log(john.age);  // Output: 30"
   ]
  },
  {
   "cell_type": "markdown",
   "id": "24778ab1",
   "metadata": {},
   "source": [
    "Here Person function is used as a constructor to create new instances of Person objects. Inside the constructor function, this refers to the newly created object, and the properties name and age are assigned to this, setting up the initial state of the object.\n",
    "\n",
    "Explicit Function Binding: We can explicitly bind the this value using methods such as call(), apply(), or bind(). These methods allows to specify the desired object as the context for a function."
   ]
  },
  {
   "cell_type": "code",
   "execution_count": null,
   "id": "4d35dad7",
   "metadata": {},
   "outputs": [],
   "source": [
    "const person = {\n",
    "  name: \"John\"\n",
    "};\n",
    "\n",
    "function greet() {\n",
    "  console.log(\"Hello, my name is\", this.name);\n",
    "}\n",
    "\n",
    "greet.call(person); // Output: Hello, my name is John"
   ]
  },
  {
   "cell_type": "markdown",
   "id": "1fb897c9",
   "metadata": {},
   "source": [
    "Here, the call() method is used to invoke the greet function and explicitly bind this to the person object. As a result, this inside the greet function refers to the person object, enabling access to the name property."
   ]
  },
  {
   "cell_type": "markdown",
   "id": "b65275f2",
   "metadata": {},
   "source": [
    "💡 Question-3: What’s Call Apply Bind Method & Difference Between them.\n",
    "\n",
    "Solution-3:\n",
    "\n",
    "In JavaScript, the call(), apply(), and bind() are methods available on function objects that allows to explicitly set the this value and optionally pass arguments to the function. They provide control over the execution context of a function and allows to borrow methods from other objects, set the this value for function invocation, and create new functions with a bound context.\n",
    "\n",
    "Here's an explanation of each method and their differences:\n",
    "\n",
    "call(): The call() method is used to invoke a function with a specified this value and individual arguments passed directly as comma-separated values. It accepts an object as its first argument, which becomes the this value inside the function, followed by any additional arguments."
   ]
  },
  {
   "cell_type": "code",
   "execution_count": null,
   "id": "35901c94",
   "metadata": {},
   "outputs": [],
   "source": [
    "function greet(message) {\n",
    "  console.log(message + \", \" + this.name);\n",
    "}\n",
    "\n",
    "const person = { name: \"John\" };\n",
    "\n",
    "greet.call(person, \"Hello\"); // Output: Hello, John"
   ]
  },
  {
   "cell_type": "markdown",
   "id": "d094b5bc",
   "metadata": {},
   "source": [
    "Here, call() is used to invoke the greet function with the person object as the this value and the message \"Hello\" as an argument.\n",
    "\n",
    "apply(): The apply() method is similar to call(), but it accepts an array or an array-like object as its second argument to pass arguments to the function. The first argument is the this value."
   ]
  },
  {
   "cell_type": "code",
   "execution_count": null,
   "id": "17ba00a9",
   "metadata": {},
   "outputs": [],
   "source": [
    "function greet(message) {\n",
    "  console.log(message + \", \" + this.name);\n",
    "}\n",
    "\n",
    "const person = { name: \"John\" };\n",
    "\n",
    "greet.apply(person, [\"Hello\"]); // Output: Hello, John"
   ]
  },
  {
   "cell_type": "markdown",
   "id": "17bf4c5f",
   "metadata": {},
   "source": [
    "Here, apply() is used to invoke the greet function with the person object as the this value and the message \"Hello\" passed as an array.\n",
    "\n",
    "bind(): The bind() method creates a new function with a specified this value and any provided arguments permanently bound to it. It returns a new function that can be invoked later. Unlike call() and apply(), bind() doesn't immediately invoke the function."
   ]
  },
  {
   "cell_type": "code",
   "execution_count": null,
   "id": "427b2a89",
   "metadata": {},
   "outputs": [],
   "source": [
    "function greet(message) {\n",
    "  console.log(message + \", \" + this.name);\n",
    "}\n",
    "\n",
    "const person = { name: \"John\" };\n",
    "\n",
    "const greetPerson = greet.bind(person);\n",
    "greetPerson(\"Hello\"); // Output: Hello, John"
   ]
  },
  {
   "cell_type": "markdown",
   "id": "33f864ca",
   "metadata": {},
   "source": [
    "Here, bind() is used to create a new function greetPerson with the person object as the this value permanently bound to it. When greetPerson is invoked, the this value is automatically set to person, and the message \"Hello\" is passed as an argument.\n",
    "\n"
   ]
  },
  {
   "cell_type": "markdown",
   "id": "2d150f14",
   "metadata": {},
   "source": [
    "💡 Question-4: Explain OOPS ?\n",
    "\n",
    " Solution-4:\n",
    "\n",
    "OOPS stands for Object-Oriented Programming Paradigm, which is a programming approach based on the concept of objects. It is a way to structure and design software applications by representing real-world entities as objects that have properties (attributes) and behaviors (methods). OOPS provides a set of principles and concepts that enable modular, scalable, and maintainable code.\n",
    "\n",
    "Here are some key concepts of OOPS:\n",
    "\n",
    "Classes and Objects: A class is a blueprint or template that defines the structure and behavior of objects. It encapsulates data (attributes) and functionality (methods) related to a specific entity. Objects are instances of classes, representing individual entities that can interact with each other.\n",
    "\n",
    "Encapsulation: Encapsulation is the practice of bundling related data and methods together within a class, hiding the internal implementation details from external access. It allows for data abstraction and provides controlled access to object properties, ensuring data integrity and security.\n",
    "\n",
    "Inheritance: Inheritance is a mechanism that allows a class (child/subclass) to inherit properties and methods from another class (parent/superclass). It promotes code reuse and establishes a hierarchical relationship between classes, enabling the creation of specialized classes based on existing ones.\n",
    "\n",
    "Polymorphism: Polymorphism means the ability of objects to take on different forms or behaviors. It allows objects of different classes to be treated as instances of a common superclass. Polymorphism enables flexibility, extensibility, and the ability to write generic code that can work with objects of different types.\n",
    "\n",
    "Abstraction: Abstraction is the process of simplifying complex systems by identifying essential features and ignoring irrelevant details. It allows the creation of abstract classes and interfaces that define common behavior and provide a blueprint for concrete implementations.\n",
    "\n",
    "Association, Aggregation, and Composition: These are different types of relationships between objects. Association represents a loosely coupled relationship between objects, where one object can refer to another. Aggregation represents a \"has-a\" relationship, where an object contains other objects but can exist independently.\n",
    "\n"
   ]
  },
  {
   "cell_type": "markdown",
   "id": "42ae4d14",
   "metadata": {},
   "source": [
    "💡 Question-5: Whats Abstraction and Its Purpose?\n",
    "\n",
    " Solution-5:\n",
    "\n",
    "Abstraction is a fundamental concept in object-oriented programming (OOP) that involves simplifying complex systems by identifying and focusing on essential features while ignoring unnecessary details. It provides a higher-level representation of objects and their behavior, allowing programmers to work with simplified models of complex entities.\n",
    "\n",
    "Here are some key aspects and benefits of abstraction:\n",
    "\n",
    "Hiding Implementation Details: Abstraction allows to hide internal implementation details of an object and expose only the relevant information and functionality to the outside world. By concealing complex internal mechanisms, we can create simpler and more intuitive interfaces for interacting with objects.\n",
    "\n",
    "Creating Abstract Classes and Interfaces: Abstraction enables the creation of abstract classes and interfaces that define a common set of properties and methods for a group of related objects. These abstract entities serve as blueprints or contracts for concrete implementations, allowing us to define a common behavior and establish a level of consistency across different objects.\n",
    "\n",
    "Promoting Code Reusability: Abstraction supports the reuse of code by defining abstract classes and interfaces that can be extended or implemented by multiple concrete classes. This allows to create generic code that operates on abstract entities, providing flexibility to handle different types of objects.\n",
    "\n",
    "Simplifying Complexity: Abstraction allows to focus on the essential aspects of an object or system while hiding unnecessary details. By abstracting away low-level implementation complexities, we can work at a higher level of understanding and tackle larger-scale problems without getting bogged down in intricate implementation details.\n",
    "\n",
    "Enhancing Maintainability: Abstraction improves code maintainability by providing a clear separation between the interface and the implementation. Changes made to the internal implementation details of an object or class do not affect the code that depends on its abstract interface."
   ]
  },
  {
   "cell_type": "markdown",
   "id": "7185483c",
   "metadata": {},
   "source": [
    "💡 Question-6: Whats Polymorphism and Purpose of it?\n",
    "\n",
    " Solution-6:\n",
    "\n",
    "Polymorphism is a fundamental concept in object-oriented programming (OOP) that allows objects of different classes to be treated as instances of a common superclass. It enables a single interface to be used to represent multiple types of objects, providing flexibility, extensibility, and the ability to write generic code that can work with objects of different types.\n",
    "\n",
    "Here are some key aspects and benefits of polymorphism:\n",
    "\n",
    "Code Reusability: Polymorphism enables the reuse of code by defining common interfaces, abstract classes, or base classes that can be inherited or implemented by multiple derived classes. Code written to interact with the common interface can be used with any object that adheres to that interface.\n",
    "\n",
    "Flexibility and Extensibility: Polymorphism allows for easy extensibility of code. New classes can be added to the system without modifying the existing code that relies on the common interface. This promotes the Open-Closed Principle, one of the SOLID principles, which states that software entities (classes, modules, functions) should be open for extension but closed for modification.\n",
    "\n",
    "Method Overriding: Polymorphism enables method overriding, which allows a subclass to provide its own implementation of a method defined in its superclass. When a method is called on an object, the actual implementation is determined dynamically at runtime based on the object's type.\n",
    "\n",
    "Run-Time Polymorphism: Polymorphism in OOP is typically achieved through dynamic or run-time polymorphism. This means that the specific method implementation to be executed is determined at runtime based on the actual type of the object.\n",
    "\n",
    "Simplifying Code and Improving Readability: Polymorphism helps in simplifying code by operating at a higher level of abstraction. By working with common interfaces, the code becomes more generic and easier to read and understand."
   ]
  },
  {
   "cell_type": "markdown",
   "id": "dc070c22",
   "metadata": {},
   "source": [
    "💡 Question-7: Whats Inheritance and Purpose of it?\n",
    "\n",
    " Solution-7:\n",
    "\n",
    "Inheritance is a fundamental concept in object-oriented programming (OOP) that allows a class (child/subclass) to inherit properties and methods from another class (parent/superclass). It establishes a hierarchical relationship between classes, enabling the creation of specialized classes based on existing ones.\n",
    "\n",
    "Here are some key aspects and benefits of inheritance:\n",
    "\n",
    "Code Reusability: Inheritance promotes code reuse by allowing classes to inherit properties and methods from a superclass. Instead of writing the same code in multiple classes, we can define common behaviors and attributes in a parent class and have the child classes inherit them.\n",
    "\n",
    "Code Organization: Inheritance helps in organizing and structuring code by establishing a hierarchical relationship between classes. Related classes can be grouped together, making the codebase more modular and easier to navigate.\n",
    "\n",
    "Specialization and Extension: Inheritance allows for specialization and extension of classes. Child classes can add new properties and methods or override existing ones inherited from the parent class to provide specialized behavior.\n",
    "\n",
    "Polymorphism: Inheritance is closely related to polymorphism. Polymorphism allows objects of different classes to be treated as instances of a common superclass. By using inheritance, we can write code that works with a superclass or interface and can be used with any subclass that adheres to that interface.\n",
    "\n",
    "Inheritance Hierarchies: Inheritance can be used to create hierarchical structures or inheritance hierarchies. Classes can have multiple levels of inheritance, where a child class can become a parent class for other derived classes.\n",
    "\n"
   ]
  },
  {
   "cell_type": "markdown",
   "id": "a9578aeb",
   "metadata": {},
   "source": [
    "💡 Question-8: Whats Encapsulation and Purpose of it ?\n",
    "\n",
    " Solution-8:\n",
    "\n",
    "Encapsulation is a fundamental concept in object-oriented programming (OOP) that involves bundling related data (attributes) and methods (functions) together within a class, and controlling access to them from outside the class. It provides a way to hide the internal implementation details of an object and expose only necessary information and functionality through well-defined interfaces.\n",
    "\n",
    "Here are some key aspects and benefits of encapsulation:\n",
    "\n",
    "Data Protection and Access Control: Encapsulation allows to protect the internal state (data) of an object by making it private or hidden from the outside world. Access to the data is provided through public methods (getters and setters) that encapsulate the logic for accessing or modifying the data. This ensures that the object's state remains consistent and controlled.\n",
    "\n",
    "Information Hiding and Abstraction: Encapsulation hides the internal implementation details of an object, exposing only essential information and functionality through well-defined interfaces. By encapsulating data and methods, we can abstract away the complexity and provide a simpler and more intuitive way to interact with objects.\n",
    "\n",
    "Modularity and Code Organization: Encapsulation promotes modularity and code organization by grouping related data and methods within a class. By encapsulating related functionality, we can create self-contained and reusable components that are easier to understand, maintain, and extend. Encapsulation helps in achieving the Single Responsibility Principle, one of the SOLID principles, which states that a class should have only one reason to change.\n",
    "\n",
    "Code Maintenance and Versioning: Encapsulation improves code maintenance and versioning by providing a clear separation between the internal implementation and the external interface. Changes made to the internal implementation of a class do not affect the code that depends on its public interface. This allows for easier updates, bug fixes, and enhancements, as long as the public interface remains unchanged.\n",
    "\n",
    "Information Security: Encapsulation contributes to information security by restricting direct access to sensitive data within an object. By encapsulating data and providing controlled access through methods, we can enforce validation, access restrictions, and ensure the integrity and security of the data.\n",
    "\n"
   ]
  },
  {
   "cell_type": "markdown",
   "id": "ac16ff60",
   "metadata": {},
   "source": [
    "💡 Question-9: Explain Class in JavaScript?\n",
    "\n",
    " Solution-9:\n",
    "\n",
    "In JavaScript, a class is a blueprint or template for creating objects. It is a syntactical construct introduced in ECMAScript 2015 (ES6) that provides a more structured and convenient way to define objects and their behaviors. JavaScript classes are built on top of JavaScript's existing prototype-based inheritance model.\n",
    "\n",
    "Here's an example of defining a class in JavaScript:"
   ]
  },
  {
   "cell_type": "code",
   "execution_count": null,
   "id": "34ada128",
   "metadata": {},
   "outputs": [],
   "source": [
    "class Person {\n",
    "  constructor(name, age) {\n",
    "    this.name = name;\n",
    "    this.age = age;\n",
    "  }\n",
    "\n",
    "  greet() {\n",
    "    console.log(`Hello, my name is ${this.name}`);\n",
    "  }\n",
    "}"
   ]
  },
  {
   "cell_type": "markdown",
   "id": "37b5ddf8",
   "metadata": {},
   "source": [
    "In this example, the Person class is defined using the class keyword. It has a constructor method that is automatically called when creating a new instance of the class. The constructor method is used to initialize the object's properties (name and age) based on the provided arguments.\n",
    "\n",
    "The class also has a greet method, which can be called on instances of the class to display a greeting message. Note that methods defined inside the class do not need the function keyword and can directly use this to refer to the instance of the class.\n",
    "\n",
    "To create objects from the class, we use the new keyword:"
   ]
  },
  {
   "cell_type": "code",
   "execution_count": null,
   "id": "26d534ee",
   "metadata": {},
   "outputs": [],
   "source": [
    "const john = new Person(\"John\", 30);\n",
    "john.greet(); // Output: Hello, my name is John"
   ]
  },
  {
   "cell_type": "markdown",
   "id": "57bbe2f8",
   "metadata": {},
   "source": [
    "In this example, john is an instance of the Person class created using the new keyword. The name and age properties are set based on the arguments passed to the Person constructor. The greet method is then called on the john object, invoking the behavior defined in the class.\n",
    "\n",
    "JavaScript classes support inheritance, allowing us to create subclasses that inherit properties and methods from a parent class. The extends keyword is used to define a subclass:"
   ]
  },
  {
   "cell_type": "code",
   "execution_count": null,
   "id": "8b93be7a",
   "metadata": {},
   "outputs": [],
   "source": [
    "class Employee extends Person {\n",
    "  constructor(name, age, employeeId) {\n",
    "    super(name, age); // Call the constructor of the parent class\n",
    "    this.employeeId = employeeId;\n",
    "  }\n",
    "\n",
    "  getInfo() {\n",
    "    console.log(`Employee ID: ${this.employeeId}`);\n",
    "  }\n",
    "}"
   ]
  },
  {
   "cell_type": "markdown",
   "id": "ddfe937b",
   "metadata": {},
   "source": [
    "In this example, the Employee class is a subclass of Person, as indicated by extends Person. The super() function is used in the constructor to call the constructor of the parent class and initialize the inherited properties. The getInfo method is specific to the Employee class and can be called on Employee instances.\n",
    "\n"
   ]
  },
  {
   "cell_type": "markdown",
   "id": "ee589d97",
   "metadata": {},
   "source": [
    "💡 Question-10: What’s Super Keyword & What it does?\n",
    "\n",
    " Solution-10:\n",
    "\n",
    "In JavaScript, the super keyword is used to call functions on an object's parent or superclass. It is typically used within subclasses to access and invoke methods or constructors defined in the parent class.\n",
    "\n",
    "Here are two common uses of the super keyword:\n",
    "\n",
    "Accessing Parent Class Methods: In a subclass, the super keyword can be used to call a method defined in the parent class with the same name. This allows the subclass to extend or override the behavior of the parent class while still accessing and invoking the parent class's implementation of the method.\n"
   ]
  },
  {
   "cell_type": "code",
   "execution_count": null,
   "id": "38faf883",
   "metadata": {},
   "outputs": [],
   "source": [
    "class Animal {\n",
    "  speak() {\n",
    "    console.log(\"Animal speaks\");\n",
    "  }\n",
    "}\n",
    "\n",
    "class Cat extends Animal {\n",
    "  speak() {\n",
    "    super.speak(); // Call the speak() method of the parent class\n",
    "    console.log(\"Cat meows\");\n",
    "  }\n",
    "}\n",
    "\n",
    "const cat = new Cat();\n",
    "cat.speak();\n",
    "// Output:\n",
    "// Animal speaks\n",
    "// Cat meows"
   ]
  },
  {
   "cell_type": "markdown",
   "id": "63f0b680",
   "metadata": {},
   "source": [
    "In this example, the Cat class extends the Animal class and overrides its speak() method. The super.speak() call inside the speak() method of Cat invokes the speak() method of the parent class (Animal), allowing both the parent and child behaviors to be executed.\n",
    "\n",
    "Calling Parent Class Constructor: In a subclass, the super keyword can also be used to call the constructor of the parent class. This is done using super() as the first statement inside the constructor of the subclass. It allows the subclass to inherit and initialize properties from the parent class."
   ]
  },
  {
   "cell_type": "code",
   "execution_count": null,
   "id": "1c4cd5f0",
   "metadata": {},
   "outputs": [],
   "source": [
    "class Animal {\n",
    "  constructor(name) {\n",
    "    this.name = name;\n",
    "  }\n",
    "}\n",
    "\n",
    "class Cat extends Animal {\n",
    "  constructor(name, color) {\n",
    "    super(name); // Call the constructor of the parent class\n",
    "    this.color = color;\n",
    "  }\n",
    "}\n",
    "\n",
    "const cat = new Cat(\"Fluffy\", \"gray\");\n",
    "console.log(cat.name);  // Output: Fluffy\n",
    "console.log(cat.color); // Output: gray"
   ]
  },
  {
   "cell_type": "markdown",
   "id": "2c312e91",
   "metadata": {},
   "source": [
    "In this example, the Cat class extends the Animal class and has its own constructor. The super(name) call inside the Cat constructor invokes the Animal constructor, allowing the name property to be initialized in the parent class. The color property is specific to the Cat class and is assigned within the subclass constructor.\n",
    "\n"
   ]
  }
 ],
 "metadata": {
  "kernelspec": {
   "display_name": "Python 3 (ipykernel)",
   "language": "python",
   "name": "python3"
  },
  "language_info": {
   "codemirror_mode": {
    "name": "ipython",
    "version": 3
   },
   "file_extension": ".py",
   "mimetype": "text/x-python",
   "name": "python",
   "nbconvert_exporter": "python",
   "pygments_lexer": "ipython3",
   "version": "3.9.13"
  }
 },
 "nbformat": 4,
 "nbformat_minor": 5
}
