{
 "cells": [
  {
   "cell_type": "markdown",
   "id": "1bc972e7",
   "metadata": {},
   "source": [
    "# Assignment 1 - Web Development"
   ]
  },
  {
   "cell_type": "markdown",
   "id": "2627aa85",
   "metadata": {},
   "source": [
    "💡 Question-1: <!DOCTYPE html> is it a tag of html? If not, what is it and why do we use it?\n",
    "\n",
    " Solution-1:\n",
    "\n",
    "<!DOCTYPE html> is not a tag in HTML; it is called a doctype declaration. It is used to specify the version of HTML or XHTML that a web page is written in. The <!DOCTYPE html> declaration specifically indicates that the web page is written in HTML5, the latest version of HTML.\n",
    "\n",
    "The doctype declaration is placed at the very beginning of an HTML document, before the <html> tag. It informs the web browser about the type of markup language used and helps it to render the page correctly. The declaration tells the browser how to interpret the HTML elements, attributes, and other features of the document."
   ]
  },
  {
   "cell_type": "markdown",
   "id": "0f6220bc",
   "metadata": {},
   "source": [
    "💡 Question-2: Explain Semantic tags in html? And why do we need it?\n",
    "\n",
    " Solution-2:\n",
    "\n",
    "Semantic tags in HTML are a set of elements that provide meaning and structure to the content within a web page. They convey the purpose or role of the enclosed content, making it more accessible to both humans and machines (such as search engines and assistive technologies). Semantic tags go beyond mere formatting or visual presentation and focus on the underlying meaning of the content.\n",
    "\n",
    "Here are some commonly used semantic tags in HTML5:\n",
    "\n",
    "<header>: Represents the introductory content or a container for a group of introductory content at the top of a document or section.\n",
    "\n",
    "<nav>: Defines a section of navigation links.\n",
    "\n",
    "<main>: Indicates the main content of a document, excluding headers, footers, and navigation.\n",
    "\n",
    "<article>: Represents a self-contained composition that can be independently distributed or reusable, such as a blog post, news article, or forum post.\n",
    "\n",
    "<section>: Defines a standalone section that is thematically related within a document, such as chapters, tabbed content, or different parts of a webpage.\n",
    "\n",
    "Using semantic tags has several benefits:\n",
    "\n",
    "Accessibility: Semantic tags provide clearer structure to assistive technologies like screen readers, making it easier for visually impaired users to navigate and understand the content.\n",
    "\n",
    "Search Engine Optimization (SEO): Search engines can better understand the organization and hierarchy of the content, potentially improving search rankings and visibility.\n",
    "\n",
    "Code Maintainability: By using semantic tags, the code becomes more self-explanatory and easier to maintain, especially when working collaboratively or revisiting the codebase after a long time."
   ]
  },
  {
   "cell_type": "markdown",
   "id": "96b28f0d",
   "metadata": {},
   "source": [
    "💡 Question-3: Differentiate between HTML Tags and Elements?\n",
    "\n",
    " Solution-3:\n",
    "\n",
    "HTML Tags: HTML tags are used to define the structure and formatting of content within an HTML document. They are represented by opening and closing angle brackets (< and >), enclosing a specific keyword. For example, <p> is the tag used to define a paragraph in HTML.\n",
    "\n",
    "HTML tags are like containers that mark the beginning and end of specific sections or elements in an HTML document. They define the structure and delineate different parts of the content. HTML tags can have attributes that provide additional information or modify the behavior of the tag\n",
    "\n",
    "HTML Elements: HTML elements are created by combining HTML tags with their content. An HTML element consists of an opening tag, content, and a closing tag. The opening tag indicates the start of an element, the closing tag marks the end, and the content is the information or nested elements contained within.\n",
    "\n",
    "For example, the following code represents an HTML element:\n",
    "\n",
    "<h1>Welcome to my website</h1>\n",
    "\n",
    "In this case, <h1> is the opening tag, \"Welcome to my website\" is the content, and is the closing tag. Together, they form an <h1> element that represents a heading in HTML.\n",
    "\n"
   ]
  },
  {
   "cell_type": "markdown",
   "id": "6f4ca7e0",
   "metadata": {},
   "source": [
    "💡 Quesion-4: Build Your Resume using HTML only\n",
    "\n",
    " Solution -3: Assignment web dev HTML  (Ans 4_).html"
   ]
  },
  {
   "cell_type": "markdown",
   "id": "f07bd941",
   "metadata": {},
   "source": [
    "💡 Question-5: Write HTML code so that it looks like the below image\n",
    "\n",
    "Solution-5:Assignment web dev Layout html (Ans 5).html"
   ]
  },
  {
   "cell_type": "markdown",
   "id": "4c73ad00",
   "metadata": {},
   "source": [
    "💡 Question-6: What are some of the advantages of HTML5 over its previous versions?\n",
    "\n",
    " Solution-6:\n",
    "\n",
    "Here are some of the key advantages of HTML5:\n",
    "\n",
    "Simplified Doctype Declaration: HTML5 introduced a simplified doctype declaration, <!DOCTYPE html>, which is shorter and easier to remember compared to the complex doctype declarations required in previous versions.\n",
    "\n",
    "Enhanced Semantics: HTML5 introduced new semantic elements like <header>, <nav>, <section>, <article>, <footer>, and more. These semantic elements provide better structure and meaning to the content, improving accessibility, search engine optimization, and code clarity.\n",
    "\n",
    "Rich Multimedia Support: HTML5 includes built-in support for multimedia elements, such as <audio> and <video>`, eliminating the need for third-party plugins like Flash. This enables seamless embedding and playback of audio and video content directly within web pages.\n",
    "\n",
    "Improved Form Handling: HTML5 introduced new input types and attributes, such as date, email, url, number, placeholder, and more. These enhancements make it easier to develop and validate forms, improving user experience and reducing the need for JavaScript-based form validation.\n",
    "\n",
    "Offline Support: HTML5 introduced the concept of offline web applications using technologies like the Application Cache and the Local Storage API. This allows web applications to function even when the user is offline or experiencing a poor internet connection, enhancing user engagement and productivity.\n",
    "\n",
    "Improved Performance and Efficiency: HTML5 introduced several performance optimizations, including asynchronous script loading, local data storage, and reduced reliance on server communication. These optimizations lead to faster page loading times, improved responsiveness, and reduced bandwidth usage.\n",
    "\n"
   ]
  },
  {
   "cell_type": "markdown",
   "id": "590f3a1c",
   "metadata": {},
   "source": [
    "💡 Question-7: Create a simple Music player using html only\n",
    "\n",
    " Solution-7: Assignment web dev music_player.html (Ans 7).html"
   ]
  },
  {
   "cell_type": "markdown",
   "id": "708b1a28",
   "metadata": {},
   "source": [
    "💡 Question-8: What is the difference between <figure> tag and <img> tag?\n",
    "\n",
    " Solution-8:\n",
    "\n",
    "<img> tag: The <img> tag is specifically used to embed images within an HTML document. It is a self-closing tag that does not require a closing tag. The <img> tag requires the src attribute to specify the source (URL or file path) of the image file, and it is commonly used in combination with the alt attribute to provide alternative text for the image.\n",
    "\n",
    "<img src=\"image.jpg\" alt=\"Description of the image\">\n",
    "\n",
    "<figure> tag: The <figure> tag is used to encapsulate self-contained content, such as images, illustrations, diagrams, code snippets, or multimedia objects within an HTML document. It provides a semantic container for a group of related content that can be referenced as a whole. The <figure> tag can be used in conjunction with the <figcaption> tag to provide a caption or description for the content within.\n",
    "\n"
   ]
  },
  {
   "cell_type": "code",
   "execution_count": null,
   "id": "7a9bb03c",
   "metadata": {},
   "outputs": [],
   "source": [
    "<figure>\n",
    "  <img src=\"image.jpg\" alt=\"Description of the image\">\n",
    "  <figcaption>Caption for the image</figcaption>\n",
    "</figure>"
   ]
  },
  {
   "cell_type": "markdown",
   "id": "79579582",
   "metadata": {},
   "source": [
    "<figure> tag encapsulates the <img> tag along with its associated caption provided by the <figcaption> tag. This helps to semantically group and associate the image and its caption together\n",
    "\n"
   ]
  },
  {
   "cell_type": "markdown",
   "id": "7a0f7c7d",
   "metadata": {},
   "source": [
    "\n",
    "💡 Question-9: What’s the difference between html tag and attribute and give example of some global attributes?\n",
    "\n",
    " Solution-9:\n",
    "\n",
    "The difference between an HTML tag and an attribute lies in their respective roles within an HTML element:\n",
    "\n",
    "HTML Tag: An HTML tag is the element's name surrounded by angle brackets (< and >). Tags define the structure and type of an element, and they often enclose content. For example, <p> is the tag used to define a paragraph element in HTML.\n",
    "\n",
    "Attribute: An attribute is used within an HTML tag to provide additional information or modify the behavior of an element. Attributes are specified within the opening tag of an element and consist of a name and a value.\n",
    "\n",
    "Here are some examples of global attributes, which can be used on most HTML elements:\n",
    "\n",
    "class: Specifies one or more class names to associate an element with a CSS class for styling or JavaScript manipulation. Example: <div class=\"container\">...</div>\n",
    "\n",
    "id: Provides a unique identifier for an element, which can be used to target and style or manipulate the element using JavaScript. Example: <h1 id=\"heading\">Hello, world!</h1>\n",
    "\n",
    "style: Allows inline CSS styling to be applied directly to an element. Example: <p style=\"color: red;\">This text is red.</p>\n",
    "\n",
    "data: Allows the addition of custom data attributes to elements, which can be accessed using JavaScript for storing and retrieving data. Example: <button data-action=\"delete\" data-id=\"123\">Delete</button>\n",
    "\n",
    "title: Provides additional information or a tooltip for an element when the user hovers over it. Example: <a href=\"#\"  title=\"Click me!\">Link</a>"
   ]
  },
  {
   "cell_type": "markdown",
   "id": "8c630e8e",
   "metadata": {},
   "source": [
    "💡 Question-10: Write Html code so that it looks like the below image:\n",
    "\n",
    " Solution-10:  Assignment web dev  Table.html (Ans 10).html"
   ]
  }
 ],
 "metadata": {
  "kernelspec": {
   "display_name": "Python 3 (ipykernel)",
   "language": "python",
   "name": "python3"
  },
  "language_info": {
   "codemirror_mode": {
    "name": "ipython",
    "version": 3
   },
   "file_extension": ".py",
   "mimetype": "text/x-python",
   "name": "python",
   "nbconvert_exporter": "python",
   "pygments_lexer": "ipython3",
   "version": "3.9.13"
  }
 },
 "nbformat": 4,
 "nbformat_minor": 5
}
