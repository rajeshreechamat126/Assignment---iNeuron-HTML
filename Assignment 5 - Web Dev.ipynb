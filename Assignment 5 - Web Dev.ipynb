{
 "cells": [
  {
   "cell_type": "markdown",
   "id": "ae8d28b0",
   "metadata": {},
   "source": [
    "# Assignment 5 - Web Dev"
   ]
  },
  {
   "cell_type": "markdown",
   "id": "5d32d331",
   "metadata": {},
   "source": [
    "💡 Question-1: What’s difference between Synchronous and Asynchronous?\n",
    "\n",
    " Solution-1:\n",
    "\n",
    "In JavaScript, synchronous and asynchronous are two different ways of executing code and handling operations.\n",
    "\n",
    "Synchronous: Synchronous execution means that each operation is performed one after the other in a sequential manner. When a synchronous operation is initiated, the program waits for it to complete before moving on to the next operation. This means that the execution of code blocks in JavaScript is blocking, and the program cannot continue until the current operation is finished.\n",
    "Here's an example of synchronous code execution"
   ]
  },
  {
   "cell_type": "code",
   "execution_count": null,
   "id": "6a2875a9",
   "metadata": {},
   "outputs": [],
   "source": [
    "console.log(\"Start\");\n",
    "\n",
    "function wait(ms) {\n",
    "  const start = Date.now();\n",
    "  while (Date.now() - start < ms) {}\n",
    "}\n",
    "\n",
    "wait(2000); // Pause execution for 2 seconds\n",
    "console.log(\"End\");"
   ]
  },
  {
   "cell_type": "markdown",
   "id": "f15f5b2d",
   "metadata": {},
   "source": [
    "This program logs \"Start,\" then pauses execution for 2 seconds using the wait function, and finally logs \"End.\" During the 2-second pause, the program is blocked, and nothing else can happen.\n",
    "\n",
    "Asynchronous: Asynchronous execution, on the other hand, allows multiple operations to be initiated without waiting for each operation to complete before moving on to the next one. Asynchronous operations are non-blocking, meaning that the program can continue its execution while waiting for a certain operation to finish.\n",
    "Here's an example of asynchronous code execution using callbacks:"
   ]
  },
  {
   "cell_type": "code",
   "execution_count": null,
   "id": "41bfdda0",
   "metadata": {},
   "outputs": [],
   "source": [
    "console.log(\"Start\");\n",
    "\n",
    "setTimeout(function() {\n",
    "  console.log(\"Timeout completed\");\n",
    "}, 2000); // Asynchronous pause for 2 seconds\n",
    "\n",
    "console.log(\"End\");"
   ]
  },
  {
   "cell_type": "markdown",
   "id": "82eaefb2",
   "metadata": {},
   "source": [
    "This program logs \"Start,\" initiates a 2-second asynchronous pause using the setTimeout function, and then logs \"End\" immediately. After the 2-second delay, the callback function is executed, and \"Timeout completed\" is logged.\n",
    "\n",
    "JavaScript also introduced Promises and async/await syntax to handle asynchronous operations. Promises allows to write asynchronous code that looks more like synchronous code, and async/await provides a syntactic sugar on top of promises to make asynchronous code appear more linear and easier to follow.\n",
    "\n"
   ]
  },
  {
   "cell_type": "markdown",
   "id": "a104c03f",
   "metadata": {},
   "source": [
    "💡 Question-2: What are Web Apis ?\n",
    "\n",
    " Solution-2:\n",
    "\n",
    "Web APIs, also known as Application Programming Interfaces, are sets of rules and protocols that allow different software applications to communicate and interact with each other over the web. Web APIs enable developers to access and utilize the functionality of other software systems, libraries, or services to enhance their own applications.\n",
    "\n",
    "Web APIs are widely used in web development to perform various tasks and access resources from external sources. Web APIs are typically based on the HTTP protocol and use a combination of endpoints, request methods, and data formats (such as JSON or XML) to enable communication.\n",
    "\n",
    "There are different types of Web APIs, including:\n",
    "\n",
    "HTTP APIs: These are APIs that expose a set of endpoints that can be accessed using HTTP methods (GET, POST, PUT, DELETE, etc.). They are often used to retrieve, create, update, or delete data on a server. Common examples include RESTful APIs and SOAP APIs.\n",
    "\n",
    "JavaScript APIs: These are APIs built into web browsers that provide additional functionality to web applications. They allow developers to interact with various aspects of the web browser and its environment, such as manipulating the DOM, making AJAX requests, accessing geolocation information, working with local storage, and more. Examples include the Document Object Model (DOM) API, Fetch API, and Geolocation API.\n",
    "\n",
    "Third-party APIs: These are APIs provided by external services or platforms that developers can integrate into their applications. They offer access to specific features or data from the service provider. Examples include social media APIs (e.g., Twitter API, Facebook Graph API), payment gateways (e.g., PayPal API), mapping services (e.g., Google Maps API), and many others.\n",
    "\n"
   ]
  },
  {
   "cell_type": "markdown",
   "id": "9e9f6d14",
   "metadata": {},
   "source": [
    "💡 Question-3: Explain SetTimeOut and setInterval ?\n",
    "\n",
    " Solution-3:\n",
    "\n",
    "setTimeout: The setTimeout function is used to execute a specified piece of code (callback function) after a designated delay. It takes two arguments: the callback function to be executed and the delay time in milliseconds.\n",
    "Here's an example usage of setTimeout:"
   ]
  },
  {
   "cell_type": "code",
   "execution_count": null,
   "id": "e0deadb9",
   "metadata": {},
   "outputs": [],
   "source": [
    "console.log(\"Before setTimeout\");\n",
    "\n",
    "setTimeout(function() {\n",
    "  console.log(\"Inside setTimeout\");\n",
    "}, 2000); // Executes the callback function after a 2-second delay\n",
    "\n",
    "console.log(\"After setTimeout\");"
   ]
  },
  {
   "cell_type": "markdown",
   "id": "82851f1c",
   "metadata": {},
   "source": [
    "The program logs \"Before setTimeout,\" then schedules the callback function to be executed after a 2-second delay using setTimeout, and finally logs \"After setTimeout.\" After the 2-second delay, the callback function is executed, and \"Inside setTimeout\" is logged.\n",
    "\n",
    "setInterval: The setInterval function is used to repeatedly execute a specified piece of code (callback function) at a defined interval. It also takes two arguments: the callback function and the interval time in milliseconds.\n",
    "Here's an example usage of setInterval:"
   ]
  },
  {
   "cell_type": "code",
   "execution_count": null,
   "id": "b9a6dfdf",
   "metadata": {},
   "outputs": [],
   "source": [
    "var counter = 0;\n",
    "\n",
    "var intervalId = setInterval(function() {\n",
    "  console.log(\"Counter:\", counter);\n",
    "  counter++;\n",
    "\n",
    "  if (counter === 5) {\n",
    "    clearInterval(intervalId); // Stops the interval after the counter reaches 5\n",
    "  }\n",
    "}, 1000); // Executes the callback function every 1 second\n"
   ]
  },
  {
   "cell_type": "markdown",
   "id": "58a0c250",
   "metadata": {},
   "source": [
    "The program initializes a counter variable and sets up an interval using setInterval. The callback function logs the current value of the counter and increments it. If the counter reaches 5, the interval is stopped using clearInterval. The callback function is executed every 1 second, logging the counter value until it reaches 5.\n",
    "\n"
   ]
  },
  {
   "cell_type": "markdown",
   "id": "efc0ac92",
   "metadata": {},
   "source": [
    "💡 Question-4: How can you handle Async code in JavaScript ?\n",
    "\n",
    " Solution-4:\n",
    "\n",
    "In JavaScript, there are several approaches to handle asynchronous code and ensure proper execution and coordination of operations. Here are some commonly used techniques:\n",
    "\n",
    "Callbacks: Callbacks are a traditional way of handling asynchronous code in JavaScript. With callbacks, we pass a function as an argument to an asynchronous operation, and that function is executed once the operation completes."
   ]
  },
  {
   "cell_type": "code",
   "execution_count": null,
   "id": "be9a1e97",
   "metadata": {},
   "outputs": [],
   "source": [
    "function fetchData(callback) {\n",
    "  // Simulating an asynchronous operation\n",
    "  setTimeout(function() {\n",
    "    const data = \"Some data\";\n",
    "    callback(data); // Call the callback function with the result\n",
    "  }, 2000);\n",
    "}\n",
    "\n",
    "function handleData(data) {\n",
    "  console.log(\"Received data:\", data);\n",
    "}\n",
    "\n",
    "fetchData(handleData);"
   ]
  },
  {
   "cell_type": "markdown",
   "id": "b1821fd1",
   "metadata": {},
   "source": [
    "In this example, the fetchData function simulates an asynchronous operation using setTimeout. It takes a callback function as an argument and invokes it with the result (data) once the operation completes. The handleData function is defined separately and passed as the callback function to fetchData. When the data is received, the handleData function is executed, logging the received data.\n",
    "\n",
    "Promises: Promises provide a more structured and readable way to handle asynchronous operations and their results. Promises represent the eventual completion (or failure) of an asynchronous operation and allows to chain actions using .then() and handle errors with .catch()."
   ]
  },
  {
   "cell_type": "code",
   "execution_count": null,
   "id": "fa98af02",
   "metadata": {},
   "outputs": [],
   "source": [
    "function fetchData() {\n",
    "  return new Promise(function(resolve, reject) {\n",
    "    // Simulating an asynchronous operation\n",
    "    setTimeout(function() {\n",
    "      const data = \"Some data\";\n",
    "      resolve(data); // Resolve the promise with the result\n",
    "    }, 2000);\n",
    "  });\n",
    "}\n",
    "\n",
    "fetchData()\n",
    "  .then(function(data) {\n",
    "    console.log(\"Received data:\", data);\n",
    "  })\n",
    "  .catch(function(error) {\n",
    "    console.error(\"Error:\", error);\n",
    "  });"
   ]
  },
  {
   "cell_type": "markdown",
   "id": "f64c6280",
   "metadata": {},
   "source": [
    "In this example, the fetchData function returns a new Promise object. Inside the Promise, the asynchronous operation is simulated with setTimeout, and when the operation completes successfully, the promise is resolved with the result (data). The resolved value can then be accessed using .then() and handled in the corresponding callback function. Errors can be caught using .catch().\n",
    "\n",
    "Async/await: Async/await is a modern syntax introduced in ECMAScript 2017 (ES8) that provides a more concise and synchronous-like way to handle asynchronous code. It is built on top of promises and allows us to write asynchronous code that looks and behaves more like synchronous code.\n"
   ]
  },
  {
   "cell_type": "code",
   "execution_count": null,
   "id": "af8a8f7c",
   "metadata": {},
   "outputs": [],
   "source": [
    "function fetchData() {\n",
    "  return new Promise(function(resolve, reject) {\n",
    "    setTimeout(function() {\n",
    "      const data = \"Some data\";\n",
    "      resolve(data);\n",
    "    }, 2000);\n",
    "  });\n",
    "}\n",
    "\n",
    "async function getData() {\n",
    "  try {\n",
    "    const data = await fetchData(); // Await the promise to resolve\n",
    "    console.log(\"Received data:\", data);\n",
    "  } catch (error) {\n",
    "    console.error(\"Error:\", error);\n",
    "  }\n",
    "}\n",
    "\n",
    "getData();"
   ]
  },
  {
   "cell_type": "markdown",
   "id": "72356e05",
   "metadata": {},
   "source": [
    "In this example, the fetchData function returns a promise as before. The getData function is declared as async to enable the usage of await inside it. With await, the promise returned by fetchData is awaited, and the resolved value (data) is assigned to the data variable. Errors can be caught using a try-catch block.\n",
    "\n",
    "Async/await offers a more straightforward and synchronous-looking code structure while still preserving the benefits of asynchronous execution and error handling.\n",
    "\n"
   ]
  },
  {
   "cell_type": "markdown",
   "id": "5140aace",
   "metadata": {},
   "source": [
    "💡 Question-5: What are Callbacks & Callback Hell ?\n",
    "\n",
    " Solution-5:\n",
    "\n",
    "Callbacks in JavaScript are functions that are passed as arguments to other functions. They are commonly used to handle asynchronous operations and execute code after a certain task or event completes.\n",
    "\n",
    "Here's an example of a callback function:"
   ]
  },
  {
   "cell_type": "code",
   "execution_count": null,
   "id": "2b0339b7",
   "metadata": {},
   "outputs": [],
   "source": [
    "function greeting(name, callback) {\n",
    "  console.log(\"Hello, \" + name);\n",
    "  callback();\n",
    "}\n",
    "\n",
    "function sayGoodbye() {\n",
    "  console.log(\"Goodbye!\");\n",
    "}\n",
    "\n",
    "greeting(\"Alice\", sayGoodbye);"
   ]
  },
  {
   "cell_type": "markdown",
   "id": "13deb252",
   "metadata": {},
   "source": [
    "Here greeting function takes two arguments: name and callback. It logs a greeting message followed by calling the callback function. The sayGoodbye function is defined separately and passed as the callback function to greeting. When greeting is called, it logs \"Hello, Alice\" and then executes the callback function, which logs \"Goodbye!\".\n",
    "\n",
    "Callback Hell, also known as the Pyramid of Doom, is a situation that arises when we have multiple nested callbacks, resulting in code that becomes difficult to read and maintain. It often occurs when dealing with complex asynchronous operations or when handling multiple asynchronous tasks sequentially.\n",
    "\n",
    "Here's an example of callback hell:"
   ]
  },
  {
   "cell_type": "code",
   "execution_count": null,
   "id": "eb601f44",
   "metadata": {},
   "outputs": [],
   "source": [
    "asyncOperation1(function(result1) {\n",
    "  asyncOperation2(result1, function(result2) {\n",
    "    asyncOperation3(result2, function(result3) {\n",
    "      // More nested callbacks...\n",
    "    });\n",
    "  });\n",
    "});"
   ]
  },
  {
   "cell_type": "markdown",
   "id": "9ff86f3c",
   "metadata": {},
   "source": [
    "In this example, each asynchronous operation depends on the result of the previous operation, so they are nested inside each other. As the number of operations grows, the nesting becomes deeper, making the code harder to understand and prone to errors.\n",
    "\n",
    "To mitigate callback hell, there are a few techniques available:\n",
    "\n",
    "Modularization: Break down the code into smaller, reusable functions to improve readability and separate concerns. This can reduce the depth of nesting.\n",
    "\n",
    "Promises: Use Promises to handle asynchronous operations in a more structured and readable way. Promises allows to chain operations using .then() and handle errors with .catch(), reducing the need for deeply nested callbacks.\n",
    "\n",
    "Async/await: Utilize the async/await syntax, which provides a more synchronous-like coding style for handling asynchronous code.\n",
    "\n",
    "Here's an example of using Promises to handle the same asynchronous operations:\n",
    "\n"
   ]
  },
  {
   "cell_type": "code",
   "execution_count": null,
   "id": "d59c1717",
   "metadata": {},
   "outputs": [],
   "source": [
    "asyncOperation1()\n",
    "  .then(function(result1) {\n",
    "    return asyncOperation2(result1);\n",
    "  })\n",
    "  .then(function(result2) {\n",
    "    return asyncOperation3(result2);\n",
    "  })\n",
    "  .then(function(result3) {\n",
    "    // ...\n",
    "  })\n",
    "  .catch(function(error) {\n",
    "    // Handle errors\n",
    "  });"
   ]
  },
  {
   "cell_type": "markdown",
   "id": "98f0e29a",
   "metadata": {},
   "source": [
    "💡 Question-6: What are Promises & Explain Some Three Methods of Promise\n",
    "\n",
    " Solution-6:\n",
    "\n",
    "Promises are objects in JavaScript that represent the eventual completion or failure of an asynchronous operation and allows to handle the result or error in a more structured and readable manner. Promises provide a way to write asynchronous code that is easier to reason about and avoids the pitfalls of callback hell.\n",
    "\n",
    "A Promise can be in one of three states:\n",
    "\n",
    "Pending: The initial state when the Promise is still undergoing the asynchronous operation and has not yet been fulfilled or rejected.\n",
    "Fulfilled: The state when the Promise successfully completes the operation, resulting in a resolved value.\n",
    "Rejected: The state when the Promise encounters an error or fails to complete the operation, resulting in a rejection reason.\n",
    "Promises have three main methods that allows to interact with and handle the asynchronous operation:\n",
    "\n",
    "then(): The then() method is used to handle the fulfillment of a Promise. It takes two optional arguments: a success callback function that handles the resolved value, and a failure callback function that handles any potential rejection. The then() method returns a new Promise, allowing for chaining."
   ]
  },
  {
   "cell_type": "code",
   "execution_count": null,
   "id": "41025759",
   "metadata": {},
   "outputs": [],
   "source": [
    "asyncOperation()\n",
    "  .then(function(result) {\n",
    "    console.log(\"Operation succeeded:\", result);\n",
    "  })\n",
    "  .catch(function(error) {\n",
    "    console.log(\"Operation failed:\", error);\n",
    "  });"
   ]
  },
  {
   "cell_type": "markdown",
   "id": "72c1ba2a",
   "metadata": {},
   "source": [
    "Here then() method is used to handle the successful completion of the asyncOperation(). The success callback function receives the resolved value as an argument and logs a success message. If an error occurs during the operation and the Promise is rejected, the catch() method is used to handle the error.\n",
    "\n",
    "catch(): The catch() method is used to handle the rejection of a Promise. It takes a callback function that handles the rejection reason. It is typically used at the end of a Promise chain to catch any errors that occur during the asynchronous operation.\n"
   ]
  },
  {
   "cell_type": "code",
   "execution_count": null,
   "id": "29970396",
   "metadata": {},
   "outputs": [],
   "source": [
    "asyncOperation()\n",
    "  .then(function(result) {\n",
    "    console.log(\"Operation succeeded:\", result);\n",
    "  })\n",
    "  .catch(function(error) {\n",
    "    console.log(\"Operation failed:\", error);\n",
    "  });"
   ]
  },
  {
   "cell_type": "markdown",
   "id": "46163a31",
   "metadata": {},
   "source": [
    "Here catch() method is used to handle any rejections that occur during the asyncOperation(). If an error occurs, the rejection callback function logs an error message.\n",
    "\n",
    "finally(): The finally() method is used to specify a callback function that is always executed, regardless of whether the Promise is fulfilled or rejected. It is commonly used to perform cleanup operations or final actions.\n"
   ]
  },
  {
   "cell_type": "code",
   "execution_count": null,
   "id": "9be41628",
   "metadata": {},
   "outputs": [],
   "source": [
    "asyncOperation()\n",
    "  .then(function(result) {\n",
    "    console.log(\"Operation succeeded:\", result);\n",
    "  })\n",
    "  .catch(function(error) {\n",
    "    console.log(\"Operation failed:\", error);\n",
    "  })\n",
    "  .finally(function() {\n",
    "    console.log(\"Cleanup or final action\");\n",
    "  });"
   ]
  },
  {
   "cell_type": "markdown",
   "id": "3314d46d",
   "metadata": {},
   "source": [
    "Here finally() method is used to define a callback function that will be executed no matter the outcome of the Promise. It can be used to perform cleanup tasks, release resources, or execute final actions.\n",
    "\n"
   ]
  },
  {
   "cell_type": "markdown",
   "id": "d294c5c0",
   "metadata": {},
   "source": [
    "💡 Question-7: What’s async & await Keyword in JavaScript\n",
    "\n",
    " Solution-7:\n",
    "\n",
    "async: The async keyword is used to declare an asynchronous function. When a function is marked as async, it automatically returns a Promise, allowing to use await inside the function to pause its execution and wait for a Promise to resolve before continuing.\n",
    "Here's an example of an asynchronous function using the async keyword:"
   ]
  },
  {
   "cell_type": "code",
   "execution_count": null,
   "id": "301193c2",
   "metadata": {},
   "outputs": [],
   "source": [
    "async function fetchData() {\n",
    "  // Asynchronous operation\n",
    "  return await someAsyncOperation();\n",
    "}"
   ]
  },
  {
   "cell_type": "markdown",
   "id": "1c9e83c3",
   "metadata": {},
   "source": [
    "Here fetchData function is marked as async. It performs an asynchronous operation using someAsyncOperation(), and the await keyword is used to pause the execution of the function until the Promise returned by someAsyncOperation() is resolved.\n",
    "\n",
    "await: The await keyword is used inside an asynchronous function to pause the execution until a Promise is resolved. It can only be used within an async function. When encountering an await expression, the function will pause, and control will be returned to the calling context until the Promise resolves.\n",
    "Here's an example of using await inside an async function:"
   ]
  },
  {
   "cell_type": "code",
   "execution_count": null,
   "id": "a2be8872",
   "metadata": {},
   "outputs": [],
   "source": [
    "async function fetchData() {\n",
    "  const result = await someAsyncOperation();\n",
    "  // Further code execution after the Promise is resolved\n",
    "  return result;\n",
    "}"
   ]
  },
  {
   "cell_type": "markdown",
   "id": "fe4deb13",
   "metadata": {},
   "source": [
    "Here await keyword is used to wait for the resolution of the Promise returned by someAsyncOperation(). The function will be paused until the Promise is resolved, and the resolved value will be assigned to the result variable. After that, the function continues its execution.\n",
    "\n",
    "Here's an example showcasing the usage of async and await with error handling:"
   ]
  },
  {
   "cell_type": "code",
   "execution_count": null,
   "id": "ae87b7d8",
   "metadata": {},
   "outputs": [],
   "source": [
    "async function fetchData() {\n",
    "  try {\n",
    "    const result = await someAsyncOperation();\n",
    "    console.log(\"Operation succeeded:\", result);\n",
    "    return result;\n",
    "  } catch (error) {\n",
    "    console.log(\"Operation failed:\", error);\n",
    "    throw error;\n",
    "  }\n",
    "}"
   ]
  },
  {
   "cell_type": "markdown",
   "id": "fd5a2d2b",
   "metadata": {},
   "source": [
    "Here try-catch block is used to handle errors that may occur during the asynchronous operation. If an error is thrown or a rejected Promise is encountered within the try block, control is transferred to the catch block, where the error is logged and potentially rethrown.\n",
    "\n"
   ]
  },
  {
   "cell_type": "markdown",
   "id": "1e4c801a",
   "metadata": {},
   "source": [
    "💡 Question-8: Explain Purpose of Try and Catch Block & Why do we need it?\n",
    "\n",
    " Solution-8:\n",
    "\n",
    "The try and catch blocks are used in JavaScript for error handling and exception handling. They allows us to write code that gracefully handles potential errors and provides a way to recover from them or perform alternative actions when exceptions occur.\n",
    "\n",
    "The purpose of the catch block is to handle the caught exception. It contains the code that executes when an exception occurs within the corresponding try block. The catch block takes an error object as a parameter, which can be used to access information about the error, such as its type or message.\n",
    "\n",
    "Here's an example that demonstrates the usage of try and catch blocks:"
   ]
  },
  {
   "cell_type": "code",
   "execution_count": null,
   "id": "7de7afdf",
   "metadata": {},
   "outputs": [],
   "source": [
    "function divide(a, b) {\n",
    "  try {\n",
    "    if (b === 0) {\n",
    "      throw new Error(\"Division by zero is not allowed\");\n",
    "    }\n",
    "\n",
    "    const result = a / b;\n",
    "    console.log(\"Result:\", result);\n",
    "  } catch (error) {\n",
    "    console.log(\"Error:\", error.message);\n",
    "  }\n",
    "}\n",
    "\n",
    "divide(10, 2);    // Result: 5\n",
    "divide(10, 0);    // Error: Division by zero is not allowed\n",
    "divide(\"10\", 2);  // Error: Invalid operands to divide"
   ]
  },
  {
   "cell_type": "markdown",
   "id": "82e366e9",
   "metadata": {},
   "source": [
    "Here divide function attempts to perform division by dividing a by b. The try block is used to enclose the division operation, and if an exception is thrown (e.g., division by zero or invalid operands), the control is transferred to the catch block. In the catch block, the error object is accessed, and an appropriate action is taken (in this case, logging the error message).\n",
    "\n",
    "The try-catch mechanism provides several benefits:\n",
    "\n",
    "Error Handling: The primary purpose is to catch and handle exceptions that may occur during the execution of a block of code.\n",
    "\n",
    "Robustness: By using try-catch, we can safeguard critical sections of code and handle exceptional situations, ensuring the program can continue running even in the face of errors.\n",
    "\n",
    "Debugging: try-catch blocks provide a way to capture and log errors, making it easier to identify and debug issues during development.\n",
    "\n",
    "Fallback or Alternative Actions: The catch block can be used to execute alternative code or fallback actions when an error occurs."
   ]
  },
  {
   "cell_type": "markdown",
   "id": "15bb0a5c",
   "metadata": {},
   "source": [
    "💡 Question-9: Explain fetch in Js.\n",
    "\n",
    " Solution-9:\n",
    "\n",
    "In JavaScript, the fetch function is used to make network requests and retrieve resources from a specified URL. It provides a modern and flexible way to perform asynchronous HTTP requests, typically for fetching data from an API or making AJAX calls.\n",
    "\n",
    "Here's a basic example of using the fetch function:"
   ]
  },
  {
   "cell_type": "code",
   "execution_count": null,
   "id": "fa8d49a9",
   "metadata": {},
   "outputs": [],
   "source": [
    "fetch('https://api.example.com/data')\n",
    "  .then(function(response) {\n",
    "    // Process the response\n",
    "    return response.json(); // Parse the response body as JSON\n",
    "  })\n",
    "  .then(function(data) {\n",
    "    // Work with the parsed data\n",
    "    console.log(data);\n",
    "  })\n",
    "  .catch(function(error) {\n",
    "    // Handle errors\n",
    "    console.error(error);\n",
    "  });"
   ]
  },
  {
   "cell_type": "markdown",
   "id": "a46a7bf3",
   "metadata": {},
   "source": [
    "In this example, the fetch function is used to make a GET request to the specified URL (https://api.example.com/data). The response is obtained in the first then block, where the response.json() method is used to parse the response body as JSON. The parsed data is then processed in the second then block. Any errors that occur during the request or parsing are caught in the catch block.\n",
    "\n",
    "The fetch function can accept additional parameters to customize the request, such as setting headers, specifying the request method, including request data, etc. Here's an example:"
   ]
  },
  {
   "cell_type": "code",
   "execution_count": null,
   "id": "14cfcf13",
   "metadata": {},
   "outputs": [],
   "source": [
    "fetch('https://api.example.com/data', {\n",
    "  method: 'POST',\n",
    "  headers: {\n",
    "    'Content-Type': 'application/json',\n",
    "    'Authorization': 'Bearer token123'\n",
    "  },\n",
    "  body: JSON.stringify({ name: 'John', age: 30 })\n",
    "})\n",
    "  .then(function(response) {\n",
    "    // Process the response\n",
    "  })\n",
    "  .catch(function(error) {\n",
    "    // Handle errors\n",
    "  });"
   ]
  },
  {
   "cell_type": "markdown",
   "id": "f24d80e0",
   "metadata": {},
   "source": [
    "In this example, a POST request is made to the specified URL with additional parameters specified in the options object. The request includes headers for content type and authorization, and the body is sent as JSON-encoded data.\n",
    "\n"
   ]
  },
  {
   "cell_type": "markdown",
   "id": "efa07f03",
   "metadata": {},
   "source": [
    "💡 Question-10: How do you define an asynchronous function in JavaScript using async/await?\n",
    "\n",
    " Solution-10:\n",
    "\n",
    "To define an asynchronous function using async/await in JavaScript, we simply need to prefix the function declaration with the async keyword. This marks the function as asynchronous and allows to use the await keyword inside the function to pause its execution until a Promise is resolved.\n",
    "\n",
    "Here's an example of defining an asynchronous function using async/await:"
   ]
  },
  {
   "cell_type": "code",
   "execution_count": null,
   "id": "dc809ca3",
   "metadata": {},
   "outputs": [],
   "source": [
    "async function fetchData() {\n",
    "  // Asynchronous operations using await\n",
    "  const result1 = await someAsyncOperation1();\n",
    "  const result2 = await someAsyncOperation2();\n",
    "  // ...\n",
    "  return result2;\n",
    "}"
   ]
  },
  {
   "cell_type": "markdown",
   "id": "76705900",
   "metadata": {},
   "source": [
    "Here fetchData function is declared as async, indicating that it is an asynchronous function. Inside the function body, we can use the await keyword to pause the execution of the function until a Promise is resolved. The result of each awaited operation is assigned to a variable (result1, result2, etc.), and the function can perform further operations or computations with those values.\n",
    "\n",
    "The await keyword is used before the Promise-based asynchronous operation that want to wait for. It ensures that the function does not proceed until the Promise resolves and returns the resolved value. Note that the await keyword can only be used within an async function.\n",
    "\n",
    "An important thing to keep in mind is that using await with an asynchronous operation effectively pauses the execution of the function until that operation is complete. This means that subsequent lines of code will not be executed until the awaited operation has finished and its result is available."
   ]
  }
 ],
 "metadata": {
  "kernelspec": {
   "display_name": "Python 3 (ipykernel)",
   "language": "python",
   "name": "python3"
  },
  "language_info": {
   "codemirror_mode": {
    "name": "ipython",
    "version": 3
   },
   "file_extension": ".py",
   "mimetype": "text/x-python",
   "name": "python",
   "nbconvert_exporter": "python",
   "pygments_lexer": "ipython3",
   "version": "3.9.13"
  }
 },
 "nbformat": 4,
 "nbformat_minor": 5
}
