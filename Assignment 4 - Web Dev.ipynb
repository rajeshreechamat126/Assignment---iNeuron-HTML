{
 "cells": [
  {
   "cell_type": "markdown",
   "id": "ac1ac520",
   "metadata": {},
   "source": [
    "# Assignment 4 - web Dev"
   ]
  },
  {
   "cell_type": "markdown",
   "id": "8b9f94a9",
   "metadata": {},
   "source": [
    "💡 Question-1: Explain Hoisting in JavaScript.\n",
    "\n",
    " Solution-1:\n",
    "\n",
    "Hoisting in JavaScript is a behavior that allows variables and function declarations to be moved to the top of their respective scopes during the compilation phase, before the code is executed. This means that regardless of where declarations appear in the code, they are effectively \"hoisted\" to the top of their scope.\n",
    "\n",
    "Hoisting applies to both variable declarations and function declarations, but it works slightly differently for each.\n",
    "\n",
    "Variable Hoisting: When variables are declared using the var keyword, they are hoisted to the top of their scope, but their assignments are not hoisted. This means that the variable names are moved to the top, but their values remain undefined until the actual assignment statement is encountered during runtime."
   ]
  },
  {
   "cell_type": "code",
   "execution_count": null,
   "id": "b8c05e1a",
   "metadata": {},
   "outputs": [],
   "source": [
    "console.log(x); // undefined\n",
    "var x = 10;"
   ]
  },
  {
   "cell_type": "markdown",
   "id": "4a0ccc23",
   "metadata": {},
   "source": [
    "In the above example, even though the console.log statement appears before the variable declaration and assignment, it doesn't throw an error. This is because the variable declaration is hoisted to the top, and x is initialized with the value undefined by default. Therefore, the output will be undefined.\n",
    "\n",
    "Function Hoisting: Function declarations are also hoisted to the top of their scope, and they can be called before they appear in the code. This allows you to define functions after they are used in the code. For example:"
   ]
  },
  {
   "cell_type": "code",
   "execution_count": null,
   "id": "16e024f8",
   "metadata": {},
   "outputs": [],
   "source": [
    "foo(); // \"Hello, world!\"\n",
    "\n",
    "function foo() {\n",
    "  console.log(\"Hello, world!\");\n",
    "}"
   ]
  },
  {
   "cell_type": "markdown",
   "id": "818d3695",
   "metadata": {},
   "source": [
    "In above example, the function foo is called before its declaration, but it still works without any errors. This is because the function declaration is hoisted to the top of its scope.\n",
    "\n"
   ]
  },
  {
   "cell_type": "markdown",
   "id": "b60d7510",
   "metadata": {},
   "source": [
    "💡 Question-2: Explain Temporal Dead Zone?\n",
    "\n",
    " Solution-2:\n",
    "\n",
    "The Temporal Dead Zone (TDZ) is a behavior in JavaScript that occurs when variables declared with let and const are accessed before they are initialized within their respective scopes. During the TDZ, if you try to access such variables, a ReferenceError is thrown.\n",
    "\n",
    "The TDZ is a concept introduced with the introduction of let and const in ECMAScript 2015 (ES6).\n",
    "\n",
    "Example:\n",
    "\n"
   ]
  },
  {
   "cell_type": "code",
   "execution_count": null,
   "id": "44e740f9",
   "metadata": {},
   "outputs": [],
   "source": [
    "console.log(x); // ReferenceError: Cannot access 'x' before initialization\n",
    "let x = 10;"
   ]
  },
  {
   "cell_type": "markdown",
   "id": "04f03f5e",
   "metadata": {},
   "source": [
    "When we try to access the variable x before its initialization, a ReferenceError is thrown. This happens because the variable x is in the TDZ until the point of initialization, which is after the let statement.\n",
    "\n",
    "The TDZ starts at the beginning of the scope and continues until the variable is declared and assigned a value.\n",
    "\n"
   ]
  },
  {
   "cell_type": "markdown",
   "id": "ae97b3bc",
   "metadata": {},
   "source": [
    "💡 Question-3: Difference between var & let?\n",
    "\n",
    " Solution-3:\n",
    "\n",
    "The main difference between var and let in JavaScript is the scope and hoisting behavior.\n",
    "\n",
    "Scope:\n",
    "\n",
    "var: Variables declared with var have function scope or global scope, meaning they are accessible throughout the entire function or global context.\n",
    "let: Variables declared with let have block scope, meaning they are limited to the nearest enclosing block, which could be a statement, loop, or a block defined by curly braces {}.\n",
    "Example:"
   ]
  },
  {
   "cell_type": "code",
   "execution_count": null,
   "id": "34d0bcda",
   "metadata": {},
   "outputs": [],
   "source": [
    "function example() {\n",
    "  var x = 10;\n",
    "  let y = 20;\n",
    "\n",
    "  if (true) {\n",
    "    var x = 30; // Same variable as outer \"x\"\n",
    "    let y = 40; // New variable, different from outer \"y\"\n",
    "\n",
    "    console.log(x); // 30\n",
    "    console.log(y); // 40\n",
    "  }\n",
    "\n",
    "  console.log(x); // 30\n",
    "  console.log(y); // 20\n",
    "}\n",
    "\n",
    "example();"
   ]
  },
  {
   "cell_type": "markdown",
   "id": "7d3527c5",
   "metadata": {},
   "source": [
    "In this example, the var declaration of x is function-scoped, so modifying it inside the if block affects its value outside as well. On the other hand, the let declaration of y is block-scoped, so the inner y is a separate variable from the outer y.\n",
    "\n",
    "Hoisting:\n",
    "\n",
    "var: Variable declarations using var are hoisted to the top of their scope during the compilation phase. However, only the declarations are hoisted, not the assignments. This means you can access the variable before its declaration, and it will have the value undefined.\n",
    "let: Variable declarations using let are also hoisted to the top of their scope, but unlike var, they are not initialized. Accessing a variable declared with let before its declaration results in a ReferenceError within the Temporal Dead Zone (TDZ).\n",
    "Example:"
   ]
  },
  {
   "cell_type": "code",
   "execution_count": null,
   "id": "5c9b31a1",
   "metadata": {},
   "outputs": [],
   "source": [
    "console.log(x); // undefined\n",
    "var x = 10;\n",
    "\n",
    "console.log(y); // ReferenceError: Cannot access 'y' before initialization\n",
    "let y = 20;"
   ]
  },
  {
   "cell_type": "markdown",
   "id": "d4892956",
   "metadata": {},
   "source": [
    "In this example, the var declaration of x is hoisted, so accessing it before the declaration is valid but returns undefined. However, the let declaration of y is also hoisted but cannot be accessed until it is initialized, resulting in a ReferenceError.\n",
    "\n"
   ]
  },
  {
   "cell_type": "markdown",
   "id": "aa8629a5",
   "metadata": {},
   "source": [
    ".\n",
    "\n",
    "💡 Question-4: What are the major features introduced in ECMAScript 6?\n",
    "\n",
    " Solution-4:\n",
    "\n",
    "Here are some of the major features introduced in ECMAScript 6:\n",
    "\n",
    "Arrow Functions: A concise syntax for defining anonymous functions, using the => arrow notation. Arrow functions provide lexical scoping of this and have implicit returns for one-line expressions.\n",
    "\n",
    "Block-Scoped Variables: The let and const keywords were introduced to declare block-scoped variables, replacing the function-scoped variables of var. Block-scoped variables are more predictable and less prone to bugs.\n",
    "\n",
    "Classes: The class syntax provides a more traditional object-oriented programming (OOP) approach to creating objects and defining classes in JavaScript, simplifying the process of creating constructor functions and prototypes.\n",
    "\n",
    "Modules: ES6 introduced a standardized module system using the import and export keywords. This allows JavaScript code to be split into separate modules, each with its own scope and dependencies, promoting modularity and reusability.\n",
    "\n",
    "Template Literals: Template literals are an enhanced string syntax that allows for multiline strings, string interpolation, and expressions inside strings using the ${} syntax.\n",
    "\n",
    "Destructuring Assignment: Destructuring assignment enables extracting values from arrays or objects and assigning them to variables in a more concise and readable way. It simplifies variable assignment and parameter handling.\n",
    "\n",
    "Enhanced Object Literals: Object literals gained new syntax and capabilities, such as shorthand property and method definitions, computed property names, and the ability to define setters and getters.\n",
    "\n",
    "Default Parameters: Function parameters can now have default values assigned, allowing for more flexibility and eliminating the need for manual checks and fallbacks.\n",
    "\n",
    "Spread and Rest Operators: The spread operator (...) allows the expansion of an array or an object into individual elements, while the rest parameter syntax allows the gathering of multiple function arguments into an array.\n",
    "\n",
    "Promises: Promises were introduced as a native way to handle asynchronous operations, providing better control flow and error handling compared to traditional callback-based approaches.\n"
   ]
  },
  {
   "cell_type": "markdown",
   "id": "8cee4fe6",
   "metadata": {},
   "source": [
    "💡 Question-5: What is the difference between let and const in ES6?\n",
    "\n",
    " Solution-5:\n",
    "\n",
    "let: Variables declared with let allow for block scoping, which means they are limited to the block in which they are defined (a block can be a statement, loop, or a block defined by curly braces {}). let variables can be reassigned with a new value, allowing them to change over time."
   ]
  },
  {
   "cell_type": "code",
   "execution_count": null,
   "id": "0f3aa95a",
   "metadata": {},
   "outputs": [],
   "source": [
    "let x = 10;\n",
    "x = 20; // Valid, x can be reassigned"
   ]
  },
  {
   "cell_type": "markdown",
   "id": "ef65651b",
   "metadata": {},
   "source": [
    "With let, you can redeclare a variable within different blocks:\n",
    "\n"
   ]
  },
  {
   "cell_type": "code",
   "execution_count": null,
   "id": "7bd10261",
   "metadata": {},
   "outputs": [],
   "source": [
    "let x = 10;\n",
    "if (true) {\n",
    "  let x = 20; // Different variable, separate scope\n",
    "  console.log(x); // Output: 20\n",
    "}\n",
    "console.log(x); // Output: 10"
   ]
  },
  {
   "cell_type": "markdown",
   "id": "7c718303",
   "metadata": {},
   "source": [
    "The block scope of let variables provides better predictability and avoids common issues associated with function-scoped variables declared with var.\n",
    "\n",
    "const: Variables declared with const also have block scoping, just like let, but they have an additional feature: they are constants and cannot be reassigned once they are initialized. The value of a const variable remains constant throughout its lifetime."
   ]
  },
  {
   "cell_type": "code",
   "execution_count": null,
   "id": "84876650",
   "metadata": {},
   "outputs": [],
   "source": [
    "const x = 10;\n",
    "x = 20; // Invalid, cannot reassign a const variable"
   ]
  },
  {
   "cell_type": "markdown",
   "id": "9da60f08",
   "metadata": {},
   "source": [
    "When using const, you must initialize the variable with a value at the time of declaration. Once assigned, the value cannot be changed.\n",
    "\n"
   ]
  },
  {
   "cell_type": "code",
   "execution_count": null,
   "id": "f42c005c",
   "metadata": {},
   "outputs": [],
   "source": [
    "const x = 10;\n",
    "const y; // Invalid, const variables must be initialized\n",
    "\n",
    "if (true) {\n",
    "  const z = 20;\n",
    "  console.log(z); // Output: 20\n",
    "}\n",
    "console.log(z); // ReferenceError: z is not defined"
   ]
  },
  {
   "cell_type": "markdown",
   "id": "a8a73dcf",
   "metadata": {},
   "source": [
    "const is useful when you want to declare variables that should not be reassigned and maintain their value throughout the program execution. It also helps in preventing accidental changes to important values.\n",
    "\n"
   ]
  },
  {
   "cell_type": "markdown",
   "id": "feed74ca",
   "metadata": {},
   "source": [
    "💡 Question-6: What is template literals in ES6 and how do you use them?\n",
    "\n",
    " Solution-6:\n",
    "\n",
    "Template literals allows for multiline strings, string interpolation, and expression embedding, providing a more expressive and flexible syntax compared to traditional string concatenation.\n",
    "\n",
    "To define a template literal, enclose the string within backticks ( ) instead of single quotes or double quotes.\n",
    "\n",
    "Example:\n",
    "\n"
   ]
  },
  {
   "cell_type": "code",
   "execution_count": null,
   "id": "88b10cae",
   "metadata": {},
   "outputs": [],
   "source": [
    "const name = 'Alice';\n",
    "const age = 25;\n",
    "\n",
    "const message = `Hello, my name is ${name} and I am ${age} years old.`;\n",
    "console.log(message);"
   ]
  },
  {
   "cell_type": "markdown",
   "id": "a5487d18",
   "metadata": {},
   "source": [
    "Output:"
   ]
  },
  {
   "cell_type": "code",
   "execution_count": null,
   "id": "c56e3143",
   "metadata": {},
   "outputs": [],
   "source": [
    "Hello, my name is Alice and I am 25 years old."
   ]
  },
  {
   "cell_type": "markdown",
   "id": "980c46d9",
   "metadata": {},
   "source": [
    "Features:\n",
    "\n",
    "String Interpolation: Variables and expressions can be embedded within the string using ${} notation. This allows you to directly include variables, function calls, or expressions inside the template literal, without the need for explicit concatenation or string manipulation.\n",
    "\n",
    "Multiline Strings: Template literals can span multiple lines without requiring explicit line breaks or escape characters. This makes it easier to work with multiline strings and improves code readability.\n",
    "\n",
    "Expression Embedding: Besides variables, you can embed any JavaScript expression within ${} notation. This allows for complex expressions, function calls, or even inline conditional statements within the template literal.\n"
   ]
  },
  {
   "cell_type": "markdown",
   "id": "ee8dcf2b",
   "metadata": {},
   "source": [
    "💡 Question-7: What’s difference between map & forEach?\n",
    "\n",
    " Solution-7:\n",
    "\n",
    "forEach():\n",
    "\n",
    "forEach() is a method that iterates over each element of an array and executes a provided callback function for each element.\n",
    "It does not return a new array.\n",
    "The primary purpose of forEach() is to perform an action or operation on each element of the array.\n",
    "It is useful when you want to iterate over an array without the need to create a new array or modify the existing one.\n",
    "Example:\n"
   ]
  },
  {
   "cell_type": "code",
   "execution_count": null,
   "id": "30748dd6",
   "metadata": {},
   "outputs": [],
   "source": [
    "const numbers = [1, 2, 3, 4, 5];\n",
    "\n",
    "numbers.forEach((number) => {\n",
    "  console.log(number);\n",
    "});"
   ]
  },
  {
   "cell_type": "markdown",
   "id": "fad8f7c3",
   "metadata": {},
   "source": [
    "map():\n",
    "\n",
    "map() is a method that iterates over each element of an array and applies a provided callback function to each element, creating a new array with the results.\n",
    "It returns a new array with the same length as the original array, where each element is the result of the callback function applied to the corresponding element in the original array.\n",
    "The primary purpose of map() is to transform or modify the array elements and create a new array based on the transformations.\n",
    "It is useful when you want to create a new array with modified elements, without modifying the original array.\n",
    "Example:"
   ]
  },
  {
   "cell_type": "code",
   "execution_count": null,
   "id": "7cc0b687",
   "metadata": {},
   "outputs": [],
   "source": [
    "const numbers = [1, 2, 3, 4, 5];\n",
    "\n",
    "const doubledNumbers = numbers.map((number) => {\n",
    "  return number * 2;\n",
    "});\n",
    "\n",
    "console.log(doubledNumbers);"
   ]
  },
  {
   "cell_type": "markdown",
   "id": "8e811098",
   "metadata": {},
   "source": [
    "💡 Question-8: How can you destructure objects and arrays in ES6?\n",
    "\n",
    " Solution-8:\n",
    "\n",
    "Object Destructuring: Object destructuring allows to extract values from an object and assign them to variables with matching property names. The syntax involves enclosing the desired variable names in curly braces {} and providing the object from which the values should be extracted.\n",
    "\n",
    "Example:"
   ]
  },
  {
   "cell_type": "code",
   "execution_count": null,
   "id": "0a4cad4e",
   "metadata": {},
   "outputs": [],
   "source": [
    "const person = { name: 'Alice', age: 25, city: 'New York' };\n",
    "\n",
    "const { name, age, city } = person;\n",
    "\n",
    "console.log(name); // Output: Alice\n",
    "console.log(age); // Output: 25\n",
    "console.log(city); // Output: New York"
   ]
  },
  {
   "cell_type": "markdown",
   "id": "8926af16",
   "metadata": {},
   "source": [
    "In the example, the values of the name, age, and city properties from the person object are extracted and assigned to corresponding variables with the same names.\n",
    "\n",
    "Array Destructuring: Array destructuring allows to extract values from an array and assign them to variables based on their positions. The syntax involves enclosing the desired variable names in square brackets [] and providing the array from which the values should be extracted.\n",
    "\n",
    "Example:"
   ]
  },
  {
   "cell_type": "code",
   "execution_count": null,
   "id": "192b9f55",
   "metadata": {},
   "outputs": [],
   "source": [
    "const numbers = [1, 2, 3, 4, 5];\n",
    "\n",
    "const [first, second, ...rest] = numbers;\n",
    "\n",
    "console.log(first); // Output: 1\n",
    "console.log(second); // Output: 2\n",
    "console.log(rest); // Output: [3, 4, 5]"
   ]
  },
  {
   "cell_type": "markdown",
   "id": "f1b04075",
   "metadata": {},
   "source": [
    "In the example, the values at the corresponding positions in the numbers array are assigned to the first and second variables. The rest of the values are gathered into the rest variable using the rest syntax (...).\n",
    "\n"
   ]
  },
  {
   "cell_type": "markdown",
   "id": "8826a1c3",
   "metadata": {},
   "source": [
    "💡 Question-9: How can you define default parameter values in ES6 functions?\n",
    "\n",
    " Solution-9:\n",
    "\n",
    "In ECMAScript 6 (ES6), we can define default parameter values for function parameters, which allows to specify a default value that will be used if no argument is provided or if the argument is undefined. Here's how to define default parameter values in ES6 functions:"
   ]
  },
  {
   "cell_type": "code",
   "execution_count": null,
   "id": "03a34b8d",
   "metadata": {},
   "outputs": [],
   "source": [
    "function greet(name = 'Anonymous') {\n",
    "  console.log(`Hello, ${name}!`);\n",
    "}\n",
    "\n",
    "greet(); // Output: Hello, Anonymous!\n",
    "greet('Alice'); // Output: Hello, Alice!"
   ]
  },
  {
   "cell_type": "markdown",
   "id": "c2f95d5f",
   "metadata": {},
   "source": [
    "In the example, the greet function has a single parameter name with a default value of 'Anonymous'. If no argument is passed when calling greet(), or if undefined is passed, the default value 'Anonymous' will be used. If an argument is provided, such as 'Alice', the provided value will override the default value.\n",
    "\n",
    "Can be defined default values for multiple parameters:"
   ]
  },
  {
   "cell_type": "code",
   "execution_count": null,
   "id": "454a5964",
   "metadata": {},
   "outputs": [],
   "source": [
    "function addNumbers(a, b = 0, c = 0) {\n",
    "  return a + b + c;\n",
    "}\n",
    "\n",
    "console.log(addNumbers(1, 2, 3)); // Output: 6\n",
    "console.log(addNumbers(1, 2)); // Output: 3\n",
    "console.log(addNumbers(1)); // Output: 1"
   ]
  },
  {
   "cell_type": "markdown",
   "id": "5c022813",
   "metadata": {},
   "source": [
    "n this example, the addNumbers function has three parameters (a, b, and c). The parameters b and c have default values of 0. If no argument is provided for b or c, the default value of 0 will be used.\n",
    "\n"
   ]
  },
  {
   "cell_type": "markdown",
   "id": "c6334c8c",
   "metadata": {},
   "source": [
    "💡 Question-10: What is the purpose of the spread operator (...) in ES6?\n",
    "\n",
    " Solution-10:\n",
    "\n",
    "In ECMAScript 6 (ES6), the spread operator (...) serves multiple purposes and provides a convenient syntax for working with arrays, objects, and function arguments. The spread operator allows to expand or spread the elements of an iterable (like an array or an object) into various contexts. Here are some common use cases for the spread operator:\n",
    "\n",
    "Array Spread:\n",
    "\n",
    "When used with an array, the spread operator allows you to create a new array by expanding the elements of an existing array.\n",
    "\n",
    "It is useful for creating copies of arrays, merging arrays, or extracting specific elements from an array.\n",
    "\n",
    "Example:\n",
    "\n"
   ]
  },
  {
   "cell_type": "code",
   "execution_count": null,
   "id": "a1fa490e",
   "metadata": {},
   "outputs": [],
   "source": [
    "const numbers = [1, 2, 3];\n",
    "const newArray = [...numbers, 4, 5]; // Spread the elements of 'numbers' and add additional elements\n",
    "\n",
    "console.log(newArray); // Output: [1, 2, 3, 4, 5]"
   ]
  },
  {
   "cell_type": "markdown",
   "id": "c54144d4",
   "metadata": {},
   "source": [
    "Object Spread:\n",
    "\n",
    "The spread operator can also be used with objects to create a new object by expanding the properties of an existing object.\n",
    "\n",
    "It is useful for creating copies of objects, merging objects, or adding new properties to an object.\n",
    "\n",
    "Example:"
   ]
  },
  {
   "cell_type": "code",
   "execution_count": null,
   "id": "332ce898",
   "metadata": {},
   "outputs": [],
   "source": [
    "const person = { name: 'Alice', age: 25 };\n",
    "const newPerson = { ...person, city: 'New York' }; // Spread the properties of 'person' and add a new property\n",
    "\n",
    "console.log(newPerson); // Output: { name: 'Alice', age: 25, city: 'New York' }"
   ]
  },
  {
   "cell_type": "markdown",
   "id": "79f63f56",
   "metadata": {},
   "source": [
    "Function Arguments:\n",
    "\n",
    "The spread operator can be used to pass an array of values as individual arguments to a function.\n",
    "\n",
    "It is useful when you have an array and want to call a function that expects individual arguments.\n",
    "\n",
    "Example:"
   ]
  },
  {
   "cell_type": "code",
   "execution_count": null,
   "id": "0faee359",
   "metadata": {},
   "outputs": [],
   "source": [
    "function addNumbers(a, b, c) {\n",
    "  return a + b + c;\n",
    "}\n",
    "\n",
    "const numbers = [1, 2, 3];\n",
    "const sum = addNumbers(...numbers); // Spread 'numbers' as individual arguments\n",
    "\n",
    "console.log(sum); // Output: 6"
   ]
  },
  {
   "cell_type": "markdown",
   "id": "da57b9c9",
   "metadata": {},
   "source": [
    "Rest Parameters:\n",
    "\n",
    "The spread operator can be used as part of function parameter syntax to capture multiple arguments as an array.\n",
    "\n",
    "It is useful when you want to define a function that can accept a variable number of arguments.\n",
    "\n",
    "Example:"
   ]
  },
  {
   "cell_type": "code",
   "execution_count": null,
   "id": "c0ba39af",
   "metadata": {},
   "outputs": [],
   "source": [
    "function concatenateStrings(...strings) {\n",
    "  return strings.join(' ');\n",
    "}\n",
    "\n",
    "const result = concatenateStrings('Hello', 'world', '!', 'Welcome');\n",
    "\n",
    "console.log(result); // Output: 'Hello world ! Welcome'"
   ]
  }
 ],
 "metadata": {
  "kernelspec": {
   "display_name": "Python 3 (ipykernel)",
   "language": "python",
   "name": "python3"
  },
  "language_info": {
   "codemirror_mode": {
    "name": "ipython",
    "version": 3
   },
   "file_extension": ".py",
   "mimetype": "text/x-python",
   "name": "python",
   "nbconvert_exporter": "python",
   "pygments_lexer": "ipython3",
   "version": "3.9.13"
  }
 },
 "nbformat": 4,
 "nbformat_minor": 5
}
